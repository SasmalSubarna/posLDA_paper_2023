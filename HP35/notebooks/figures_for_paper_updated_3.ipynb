{
 "cells": [
  {
   "cell_type": "markdown",
   "metadata": {},
   "source": [
    "## Importing libraries"
   ]
  },
  {
   "cell_type": "code",
   "execution_count": 1,
   "metadata": {},
   "outputs": [
    {
     "name": "stderr",
     "output_type": "stream",
     "text": [
      "/home/gmh4/.local/lib/python3.8/site-packages/numpy/core/getlimits.py:499: UserWarning: The value of the smallest subnormal for <class 'numpy.float64'> type is zero.\n",
      "  setattr(self, word, getattr(machar, word).flat[0])\n",
      "/home/gmh4/.local/lib/python3.8/site-packages/numpy/core/getlimits.py:89: UserWarning: The value of the smallest subnormal for <class 'numpy.float64'> type is zero.\n",
      "  return self._float_to_str(self.smallest_subnormal)\n",
      "/home/gmh4/.local/lib/python3.8/site-packages/numpy/core/getlimits.py:499: UserWarning: The value of the smallest subnormal for <class 'numpy.float32'> type is zero.\n",
      "  setattr(self, word, getattr(machar, word).flat[0])\n",
      "/home/gmh4/.local/lib/python3.8/site-packages/numpy/core/getlimits.py:89: UserWarning: The value of the smallest subnormal for <class 'numpy.float32'> type is zero.\n",
      "  return self._float_to_str(self.smallest_subnormal)\n"
     ]
    }
   ],
   "source": [
    "import numpy as np\n",
    "import pyemma\n",
    "import matplotlib.pyplot as plt\n",
    "%matplotlib inline\n",
    "import MDAnalysis as md\n",
    "from MDAnalysis.analysis.rms import rmsd\n",
    "from MDAnalysis.analysis import align\n",
    "from shapeGMM import gmm_shapes\n",
    "import os\n",
    "import sys\n",
    "import pickle\n",
    "import glob\n",
    "from matplotlib.collections import LineCollection\n",
    "from sklearn.discriminant_analysis import LinearDiscriminantAnalysis\n",
    "\n",
    "import matplotlib as mpl\n",
    "plt.rcParams.update({'font.size': 10})\n",
    "from mpl_toolkits.axes_grid1 import make_axes_locatable\n",
    "\n",
    "output_directory = \"figures\"\n",
    "if output_directory is not None:\n",
    "    os.makedirs(output_directory, exist_ok=True)"
   ]
  },
  {
   "cell_type": "markdown",
   "metadata": {},
   "source": [
    "## Read Trajectory and select backbone atoms "
   ]
  },
  {
   "cell_type": "code",
   "execution_count": 2,
   "metadata": {},
   "outputs": [
    {
     "name": "stdout",
     "output_type": "stream",
     "text": [
      "Number of atoms in trajectory: 577\n",
      "Number of frames in trajectory: 1526041\n",
      "Number of atoms being analyzed: 101\n",
      "Number of frames being analyzed: 1526041\n"
     ]
    }
   ],
   "source": [
    "# read trajectory data\n",
    "data_path = '/scratch/work/hockygroup/gmh4/projects/gmm_clustering/data/DESRES-Trajectory_pnas2012-2f4k-360K-protein/pnas2012-2f4k-360K-protein/'\n",
    "backbone_selection_101 = \"(name C and resid 42) or (name C CA N and not resid 42 76) or (name N and resid 76)\"\n",
    "# LOAD DATA\n",
    "prmtopFileName =  data_path + 'pnas2012-2f4k-360K-protein.pdb'\n",
    "# make an ordered list of all the files\n",
    "trajFiles = sorted(glob.glob(data_path+\"*.dcd\"))\n",
    "#print(trajFiles)\n",
    "#print(len(trajFiles))\n",
    "coord = md.Universe(prmtopFileName,trajFiles)\n",
    "sel_backbone_101 = coord.select_atoms(backbone_selection_101)\n",
    "print(\"Number of atoms in trajectory:\", coord.atoms.n_atoms)\n",
    "print(\"Number of frames in trajectory:\",coord.trajectory.n_frames)\n",
    "print(\"Number of atoms being analyzed:\",sel_backbone_101.n_atoms)\n",
    "print(\"Number of frames being analyzed:\",coord.trajectory.n_frames)\n",
    "trajData = np.empty((coord.trajectory.n_frames,sel_backbone_101.n_atoms,3),dtype=float)\n",
    "count = 0\n",
    "for ts in coord.trajectory:\n",
    "    trajData[count,:,:] = sel_backbone_101.positions - sel_backbone_101.center_of_geometry()\n",
    "    count += 1"
   ]
  },
  {
   "cell_type": "code",
   "execution_count": 3,
   "metadata": {},
   "outputs": [
    {
     "name": "stdout",
     "output_type": "stream",
     "text": [
      "(1526041, 101, 3)\n"
     ]
    }
   ],
   "source": [
    "print(trajData.shape)"
   ]
  },
  {
   "cell_type": "markdown",
   "metadata": {},
   "source": [
    "## load clustered objects"
   ]
  },
  {
   "cell_type": "code",
   "execution_count": 4,
   "metadata": {},
   "outputs": [
    {
     "name": "stdout",
     "output_type": "stream",
     "text": [
      "(1526041,)\n",
      "Train log likelihood per frame : 379.8134702799295\n"
     ]
    }
   ],
   "source": [
    "# load the object\n",
    "with open(\"/scratch/projects/hockygroup/ss12902/hp35_sGMM/hp35_wsgmm_6_clusters_reorderd.pickle\", \"rb\")as f_o:\n",
    "    wsgmm = pickle.load(f_o)\n",
    "\n",
    "# load cluster assignments\n",
    "clusters = np.loadtxt(\"/scratch/projects/hockygroup/ss12902/hp35_sGMM/hp35_wsgmm_6_clusters_reorderd_full_traj.clusters\")\n",
    "print(clusters.shape)\n",
    "\n",
    "print(\"Train log likelihood per frame :\", wsgmm.log_likelihood/wsgmm.n_frames)"
   ]
  },
  {
   "cell_type": "code",
   "execution_count": 5,
   "metadata": {},
   "outputs": [
    {
     "name": "stdout",
     "output_type": "stream",
     "text": [
      "Total no. of clusters = 6\n",
      "Cluster ID: [0. 1. 2. 3. 4. 5.]\n",
      "Populations of clusters: [513969 326358 203663 167295 157838 156918]\n"
     ]
    }
   ],
   "source": [
    "cluster_ids, cluster_populations = np.unique(clusters,return_counts=True)\n",
    "n_clusters = cluster_ids.size\n",
    "\n",
    "print(\"Total no. of clusters =\", n_clusters)\n",
    "print(\"Cluster ID:\", cluster_ids)\n",
    "print(\"Populations of clusters:\", cluster_populations)"
   ]
  },
  {
   "cell_type": "markdown",
   "metadata": {},
   "source": [
    "## Choosing the folded and unfolded states\n",
    "\n",
    "1. We will consider the most populated state as native or folded state and least populated state as unfolded state.\n",
    "2. According to the population data shown above, cluster-id=0 is folded while cluster-id= 4 or 5 corresponds to unfolded state."
   ]
  },
  {
   "cell_type": "code",
   "execution_count": 6,
   "metadata": {},
   "outputs": [
    {
     "name": "stdout",
     "output_type": "stream",
     "text": [
      "(513969, 101, 3)\n",
      "(157838, 101, 3)\n",
      "(156918, 101, 3)\n"
     ]
    }
   ],
   "source": [
    "# extracting out frames belonging to different clusters\n",
    "\n",
    "folded_frames = trajData[[x[0] for x in np.argwhere(clusters == 0)]]\n",
    "print(folded_frames.shape)\n",
    "\n",
    "c4_frames = trajData[[x[0] for x in np.argwhere(clusters == 4)]]\n",
    "print(c4_frames.shape)\n",
    "\n",
    "c5_frames = trajData[[x[0] for x in np.argwhere(clusters == 5)]]\n",
    "print(c5_frames.shape)"
   ]
  },
  {
   "cell_type": "markdown",
   "metadata": {},
   "source": [
    "## Load aligned trajs "
   ]
  },
  {
   "cell_type": "code",
   "execution_count": 7,
   "metadata": {},
   "outputs": [
    {
     "name": "stdout",
     "output_type": "stream",
     "text": [
      "(671807,)\n"
     ]
    }
   ],
   "source": [
    "# assign 0 to unfolded frames and 1 to folded frames\n",
    "f_c = np.ones(folded_frames.shape[0])\n",
    "u_c = np.zeros(c4_frames.shape[0])\n",
    "\n",
    "clusters_assigned = np.concatenate([f_c, u_c], axis=0)\n",
    "\n",
    "print(clusters_assigned.shape)\n",
    "#print(clusters_assigned[-1:-50:-1])"
   ]
  },
  {
   "cell_type": "code",
   "execution_count": 8,
   "metadata": {},
   "outputs": [
    {
     "name": "stdout",
     "output_type": "stream",
     "text": [
      "(1526041, 101, 3)\n",
      "(1526041, 101, 3)\n",
      "(1526041, 101, 3)\n"
     ]
    }
   ],
   "source": [
    "# loading the aligned trajs\n",
    "folded_aligned_traj = np.load(\"/scratch/projects/hockygroup/ss12902/hp35_sGMM/folded_aligned_traj.npy\", allow_pickle=True)\n",
    "unfolded_aligned_traj = np.load(\"/scratch/projects/hockygroup/ss12902/hp35_sGMM/unfolded_aligned_traj.npy\", allow_pickle=True)\n",
    "global_aligned_traj = np.load(\"/scratch/projects/hockygroup/ss12902/hp35_sGMM/global_aligned_traj.npy\", allow_pickle=True)\n",
    "\n",
    "print(global_aligned_traj.shape)\n",
    "print(folded_aligned_traj.shape)\n",
    "print(unfolded_aligned_traj.shape)"
   ]
  },
  {
   "cell_type": "code",
   "execution_count": null,
   "metadata": {},
   "outputs": [],
   "source": [
    "folded_aligned_traj_frames = np.concatenate([folded_aligned_traj[[x[0] for x in np.argwhere(clusters == 0)]],\\\n",
    "                                             folded_aligned_traj[[x[0] for x in np.argwhere(clusters == 4)]]], axis=0)\n",
    "\n",
    "\n",
    "unfolded_aligned_traj_frames = np.concatenate([unfolded_aligned_traj[[x[0] for x in np.argwhere(clusters == 0)]],\\\n",
    "                                             unfolded_aligned_traj[[x[0] for x in np.argwhere(clusters == 4)]]], axis=0)\n",
    "\n",
    "\n",
    "global_aligned_traj_frames = np.concatenate([global_aligned_traj[[x[0] for x in np.argwhere(clusters == 0)]],\\\n",
    "                                             global_aligned_traj[[x[0] for x in np.argwhere(clusters == 4)]]], axis=0)"
   ]
  },
  {
   "cell_type": "code",
   "execution_count": null,
   "metadata": {},
   "outputs": [],
   "source": [
    "print(folded_aligned_traj_frames.shape)\n",
    "print(global_aligned_traj_frames.shape)"
   ]
  },
  {
   "cell_type": "markdown",
   "metadata": {},
   "source": [
    "## compute committor"
   ]
  },
  {
   "cell_type": "code",
   "execution_count": null,
   "metadata": {},
   "outputs": [],
   "source": [
    "# setting the traj labels for each frame\n",
    "traj_labels = np.zeros(coord.trajectory.n_frames)\n",
    "print(traj_labels.shape)\n",
    "\n",
    "for i in range(len(traj_labels)):\n",
    "    \n",
    "    # folded state\n",
    "    if clusters[i] == 0:\n",
    "        \n",
    "        # assign 1 to folded state\n",
    "        traj_labels[i] = 1\n",
    "        \n",
    "    # unfolded state\n",
    "    elif clusters[i] == 4:\n",
    "        \n",
    "        # assign 0 to unfolded state\n",
    "        traj_labels[i] = 0\n",
    "    \n",
    "    else:\n",
    "        \n",
    "        # assign 2 to any other frames\n",
    "        traj_labels[i] = 2\n",
    "\n",
    "print(np.unique(traj_labels))\n",
    "# save the traj labels\n",
    "np.savetxt('traj_labels.txt', traj_labels, fmt=\"%1.1f\")"
   ]
  },
  {
   "cell_type": "code",
   "execution_count": null,
   "metadata": {},
   "outputs": [],
   "source": [
    "import compute_committor_modf\n",
    "import importlib\n",
    "importlib.reload(compute_committor_modf)\n",
    "comm = compute_committor_modf.b_before_a(traj_labels,state_a=0,state_b=1)\n",
    "print(len(comm))\n",
    "#print(comm[:30])\n",
    "\n",
    "#save the committor \n",
    "np.savetxt('comm.dat', comm, fmt=\"%1.1f\")\n",
    "\n",
    "# make a plot for committor\n",
    "plt.figure(figsize=(6,6), dpi=80)\n",
    "# no -ve values are presesnt in committor data (good point!) \n",
    "#plt.plot(comm, '.') \n",
    "plt.plot(comm, lw=1.0) \n",
    "plt.ylim(-0.1, 1.1)\n",
    "plt.xlabel(\"# frame\", fontsize=15)\n",
    "plt.ylabel(\"Committor\", fontsize=15)\n",
    "plt.grid(b=True, which='major', axis='both', color='#808080', linestyle=\"--\")"
   ]
  },
  {
   "cell_type": "markdown",
   "metadata": {},
   "source": [
    "## 2. FE vs. LD1 (computed from 310us DESRES data)"
   ]
  },
  {
   "cell_type": "markdown",
   "metadata": {},
   "source": [
    "command line: plumed kt --temp 360.0 --units kcal/mol\n",
    "\n",
    "When the temperature is 360.000000 kelvin kT is equal to 0.715393 kcal/mol (From PLUMED)"
   ]
  },
  {
   "cell_type": "code",
   "execution_count": null,
   "metadata": {},
   "outputs": [],
   "source": [
    "kbt = 0.715393 # in kcal/mol unit at 360.0K"
   ]
  },
  {
   "cell_type": "code",
   "execution_count": null,
   "metadata": {},
   "outputs": [],
   "source": [
    "# define important functions\n",
    "def kabsch_rotate(mobile, ref):\n",
    "    correlation = np.dot(mobile.T,ref)\n",
    "    v, s, w_tr = np.linalg.svd(correlation)\n",
    "    # enforce determinant of rotation matrix is 1 (not negative 1)\n",
    "    if np.linalg.det(v) * np.linalg.det(w_tr) < 0.0:\n",
    "        v[:,-1] *= -1\n",
    "    rotation = np.dot(v, w_tr)\n",
    "    #print(rotation)\n",
    "    # rotate\n",
    "    return np.dot(mobile,rotation)\n",
    "\n",
    "def project_trajectory_lda_weighted(trajectory, ref, precision, lda_vector):\n",
    "    # meta data\n",
    "    n_frames = trajectory.shape[0]\n",
    "    n_atoms = trajectory.shape[1]\n",
    "    # check everything else has matching size\n",
    "    assert ref.shape[0] == n_atoms, \"Atom numbers different in trajectory and reference\"\n",
    "    assert precision.shape[0] == n_atoms, \"Atom numbers different in trajectory and precision\"\n",
    "    assert lda_vector.shape[0] == n_atoms*3, \"LDA vector dimension do not match trajectory\"\n",
    "    # declare arrays\n",
    "    projections = np.empty(n_frames,dtype=np.float64)\n",
    "    # loop over trajectory\n",
    "    weighted_ref = np.dot(precision, ref)\n",
    "    for frame in range(n_frames):\n",
    "        disp = (kabsch_rotate(trajectory[frame],weighted_ref) - ref).flatten()\n",
    "        #disp = kabsch_rotate(trajectory[frame],weighted_ref).flatten()    # not using displacement\n",
    "        #disp = -(kabsch_rotate(trajectory[frame],weighted_ref) - ref).flatten()   # tested with -ve sign\n",
    "        projections[frame] = np.dot(disp,lda_vector)\n",
    "    return projections"
   ]
  },
  {
   "cell_type": "code",
   "execution_count": null,
   "metadata": {},
   "outputs": [],
   "source": [
    "# load important data for later\n",
    "\n",
    "fu_avg = np.loadtxt(\"/scratch/projects/hockygroup/ss12902/hp35_sGMM/fu_avg.txt\")\n",
    "fu_precision = np.loadtxt(\"/scratch/projects/hockygroup/ss12902/hp35_sGMM/fu_precision.txt\")\n",
    "ref_ = np.loadtxt(\"/scratch/projects/hockygroup/ss12902/hp35_sGMM/global_avg.txt\")\n",
    "prec_ = np.loadtxt(\"/scratch/projects/hockygroup/ss12902/hp35_sGMM/global_precision.txt\")\n",
    "vec_ = np.loadtxt(\"/scratch/projects/hockygroup/ss12902/hp35_sGMM/lda_scalings_global_folded_unfolded_ld1.txt\")\n",
    "\n",
    "proj_fu_avg = project_trajectory_lda_weighted(fu_avg.reshape(1,fu_avg.shape[0],\\\n",
    "                                                             fu_avg.shape[1]), ref_, prec_, vec_)\n",
    "print(proj_fu_avg)\n",
    "\n",
    "ld_desres = np.loadtxt(\"/scratch/projects/hockygroup/ss12902/test_lda_from_desres/COLVAR\", usecols=2, dtype=float)*-1\n",
    "plt.plot(ld_desres+proj_fu_avg)\n",
    "#plt.plot(ld1_fu)"
   ]
  },
  {
   "cell_type": "code",
   "execution_count": null,
   "metadata": {},
   "outputs": [],
   "source": [
    "# compute ld vectors for folded/unfolded (fu) and all\n",
    "# lda calculation\n",
    "desres_ld_fu_file = \"desres_ld_fu.npy\"\n",
    "desres_ld1_all_file = \"desres_ld1_all.npy\"\n",
    "\n",
    "if not os.path.exists(desres_ld_fu_file):\n",
    "    lda = LinearDiscriminantAnalysis(solver=\"svd\", store_covariance=True)\n",
    "    lda.fit(global_aligned_traj_frames.reshape(global_aligned_traj_frames.shape[0], sel_backbone_101.n_atoms*3), clusters_assigned)\n",
    "    ld1_fu = lda.transform(global_aligned_traj.reshape(global_aligned_traj.shape[0], sel_backbone_101.n_atoms*3))[:,0]\n",
    "    #note that we reflect the x axis so that folded is on left\n",
    "    ld1_fu *= -1.0\n",
    "    np.save(desres_ld_fu_file, ld1_fu)\n",
    "else:\n",
    "    ld1_fu = np.load(desres_ld_fu_file, allow_pickle=True)\n",
    "\n",
    "if not os.path.exists(desres_ld1_all_file):\n",
    "    # lda calculation\n",
    "    lda = LinearDiscriminantAnalysis(solver=\"svd\", store_covariance=True)\n",
    "    ld1 = lda.fit_transform(global_aligned_traj.reshape(global_aligned_traj.shape[0], sel_backbone_101.n_atoms*3), clusters)[:,0]\n",
    "    np.save(desres_ld1_all_file, ld1)\n",
    "else:\n",
    "    ld1 = np.load(desres_ld1_all_file, allow_pickle=True)"
   ]
  },
  {
   "cell_type": "code",
   "execution_count": null,
   "metadata": {},
   "outputs": [],
   "source": [
    "fig, axs = plt.subplots(1, 2, figsize=(7,3), sharey=True)\n",
    "\n",
    "# ================================ #\n",
    "# folded and unfolded frames only  #\n",
    "# ================================ #\n",
    "\n",
    "ld_range = (-8,20)\n",
    "nbins=150\n",
    "cmap = 'brg'\n",
    "\n",
    "axs[0].set_title(\"folded /unfolded\", fontsize=16)\n",
    "axs[0].set_ylabel(\"FE (kcal/mol)\",fontsize=16,labelpad=0)\n",
    "axs[0].set_xlabel(\"$l$\", fontsize=16,labelpad=0)\n",
    "axs[0].tick_params(axis='both',labelsize=16)\n",
    "axs[0].grid(b=True, which='major', axis='both', color='#808080', linestyle='--')\n",
    "# set lims\n",
    "axs[0].set_xlim(-8,20)\n",
    "axs[0].set_ylim(0.0, 10.0)\n",
    "\n",
    "\n",
    "# histogram \n",
    "hist, bins = np.histogram(ld1_fu, range=ld_range, bins=nbins, density=True)\n",
    "fe = -kbt*np.log(hist)\n",
    "grids = (bins[:-1] + bins[1:])/2\n",
    "\n",
    "dx = bins[1]-bins[0]\n",
    "comm_average_var = []\n",
    "for my_bin in bins:\n",
    "    sgmm_idx = np.where( (ld1_fu[1::] >=my_bin) * (ld1_fu[1::] <my_bin+dx) )[0]\n",
    "    comm_average_var.append([comm[sgmm_idx].mean(),comm[sgmm_idx].var()])\n",
    "comm_average_var = np.array(comm_average_var)\n",
    "\n",
    "# create the segments\n",
    "points = np.array([grids, fe-fe.min()]).T.reshape(-1, 1, 2)\n",
    "segments = np.concatenate([points[:-1], points[1:]], axis=1)\n",
    "\n",
    "# Create a continuous norm to map from data points to colors\n",
    "#norm1 = plt.Normalize(comm_average_var[:,0].min(), comm_average_var[:,0].max())\n",
    "norm1 = plt.Normalize(0.0, 1.0)  # setting the limit [0,1]\n",
    "lc = LineCollection(segments, cmap=cmap, norm=norm1)\n",
    "\n",
    "# Set the values used for colormapping\n",
    "lc.set_array(comm_average_var[:,0])\n",
    "lc.set_linewidth(3)\n",
    "line = axs[0].add_collection(lc)\n",
    "#cbar = fig.colorbar(line, ax=axs[0])\n",
    "#cbar.set_label(\"avg. committor\", fontsize=16)\n",
    "\n",
    "\n",
    "# ================================ #\n",
    "#        using all frames          #\n",
    "# ================================ #\n",
    "\n",
    "ld_range = (-5,14)\n",
    "nbins=100\n",
    "cmap = 'brg'\n",
    "\n",
    "axs[1].set_title(\"all states\", fontsize=16)\n",
    "axs[1].set_ylabel(\"FE (kcal/mol)\",fontsize=16)\n",
    "axs[1].set_xlabel(\"$l_1$\", fontsize=16)\n",
    "axs[1].tick_params(axis='both',labelsize=16)\n",
    "axs[1].grid(b=True, which='major', axis='both', color='#808080', linestyle='--')\n",
    "# set lims\n",
    "#axs[1].set_xlim(-5,14)\n",
    "axs[1].set_xlim(-8,20)\n",
    "axs[1].set_ylim(0.0, 10.0)\n",
    "\n",
    "\n",
    "# histogram \n",
    "hist, bins = np.histogram(ld1, range=ld_range, bins=nbins, density=True)\n",
    "fe = -kbt*np.log(hist)\n",
    "grids = (bins[:-1] + bins[1:])/2\n",
    "\n",
    "dx = bins[1]-bins[0]\n",
    "comm_average_var = []\n",
    "for my_bin in bins:\n",
    "    sgmm_idx = np.where( (ld1[1::] >=my_bin) * (ld1[1::] <my_bin+dx) )[0]\n",
    "    comm_average_var.append([comm[sgmm_idx].mean(),comm[sgmm_idx].var()])\n",
    "comm_average_var = np.array(comm_average_var)\n",
    "\n",
    "# create the segments\n",
    "points = np.array([grids, fe-fe.min()]).T.reshape(-1, 1, 2)\n",
    "segments = np.concatenate([points[:-1], points[1:]], axis=1)\n",
    "\n",
    "# Create a continuous norm to map from data points to colors\n",
    "#norm1 = plt.Normalize(comm_average_var[:,0].min(), comm_average_var[:,0].max())\n",
    "norm1 = plt.Normalize(0.0, 1.0)  # setting the limit [0,1]\n",
    "lc = LineCollection(segments, cmap=cmap, norm=norm1)\n",
    "\n",
    "# Set the values used for colormapping\n",
    "lc.set_array(comm_average_var[:,0])\n",
    "lc.set_linewidth(3)\n",
    "line = axs[1].add_collection(lc)\n",
    "\n",
    "\n",
    "divider = make_axes_locatable(axs[1])\n",
    "cax = divider.append_axes(\"right\", size=\"5%\", pad=0.15)\n",
    "\n",
    "cbar=plt.colorbar(line, cax=cax)\n",
    "cbar.set_label(\"$P_c(l)$\")\n",
    "\n",
    "plt.tight_layout(pad=0,rect=(0.05,0,0.95,1))\n",
    "if output_directory is not None:\n",
    "    plt.savefig(os.path.join(output_directory,\"compare_fes_commitor_2state_6state.pdf\"), format=\"pdf\",bbox_inches=0)"
   ]
  },
  {
   "cell_type": "code",
   "execution_count": null,
   "metadata": {
    "scrolled": false
   },
   "outputs": [],
   "source": [
    "fig, axs = plt.subplots(1, 1, figsize=(6,5), dpi=100)\n",
    "\n",
    "# ================================ #\n",
    "# folded and unfolded frames only  #\n",
    "# ================================ #\n",
    "\n",
    "ld_range = (-8,20)\n",
    "nbins=150\n",
    "cmap = 'brg'\n",
    "\n",
    "#axs.set_title(\"folded /unfolded\", fontsize=16)\n",
    "axs.set_ylabel(\"FE (kcal/mol)\",fontsize=16)\n",
    "axs.set_xlabel(\"$l$\", fontsize=16)\n",
    "axs.tick_params(axis='both',labelsize=16)\n",
    "axs.grid(b=True, which='major', axis='both', color='#808080', linestyle='--')\n",
    "# set lims\n",
    "axs.set_xlim(-8,20)\n",
    "axs.set_ylim(0.0, 10.0)\n",
    "\n",
    "# lda calculation\n",
    "#lda = LinearDiscriminantAnalysis(solver=\"svd\", store_covariance=True)\n",
    "#lda.fit(global_aligned_traj_frames.reshape(global_aligned_traj_frames.shape[0], sel_backbone_101.n_atoms*3), clusters_assigned)\n",
    "#ld1_fu = lda.transform(global_aligned_traj.reshape(global_aligned_traj.shape[0], sel_backbone_101.n_atoms*3))[:,0]\n",
    "#ld1_fu *= -1.0\n",
    "\n",
    "# histogram \n",
    "hist, bins = np.histogram(ld1_fu, range=ld_range, bins=nbins, density=True)\n",
    "fe = -kbt*np.log(hist)\n",
    "grids = (bins[:-1] + bins[1:])/2\n",
    "\n",
    "dx = bins[1]-bins[0]\n",
    "comm_average_var = []\n",
    "for my_bin in bins:\n",
    "    sgmm_idx = np.where( (ld1_fu[1::] >=my_bin) * (ld1_fu[1::] <my_bin+dx) )[0]\n",
    "    comm_average_var.append([comm[sgmm_idx].mean(),comm[sgmm_idx].var()])\n",
    "comm_average_var = np.array(comm_average_var)\n",
    "\n",
    "# create the segments\n",
    "points = np.array([grids, fe-fe.min()]).T.reshape(-1, 1, 2)\n",
    "segments = np.concatenate([points[:-1], points[1:]], axis=1)\n",
    "\n",
    "# Create a continuous norm to map from data points to colors\n",
    "#norm1 = plt.Normalize(comm_average_var[:,0].min(), comm_average_var[:,0].max())\n",
    "norm1 = plt.Normalize(0.0, 1.0)  # setting the limit [0,1]\n",
    "lc = LineCollection(segments, cmap=cmap, norm=norm1)\n",
    "\n",
    "# Set the values used for colormapping\n",
    "lc.set_array(comm_average_var[:,0])\n",
    "lc.set_linewidth(4)\n",
    "line = axs.add_collection(lc)\n",
    "cbar = fig.colorbar(line, ax=axs)\n",
    "cbar.set_label(\"Committor\", fontsize=16)\n",
    "\n",
    "# save \n",
    "if output_directory is not None:\n",
    "    plt.savefig(os.path.join(output_directory,\"fe_vs_ld1_folded_unfolded_colored_comm.pdf\"), format=\"pdf\")"
   ]
  },
  {
   "cell_type": "code",
   "execution_count": null,
   "metadata": {},
   "outputs": [],
   "source": [
    "import string \n",
    "plt.rcParams.update({'font.size': 10})\n",
    "\n",
    "fig, axs = plt.subplots(2,1, figsize=(3.33,4.5))\n",
    "\n",
    "times = np.arange(len(ld_desres))*305./(len(ld_desres))\n",
    "axs[0].plot(times[::10],(ld_desres+proj_fu_avg)[::10],color='olive')\n",
    "axs[0].set_ylabel('$l$',labelpad=0)\n",
    "axs[0].set_xlabel('$t$ $(\\mathrm{\\mu}s)$',labelpad=0)\n",
    "#axs[0].set_box_aspect(0.5)\n",
    "\n",
    "axs[1].set_ylabel(\"FE (kcal/mol)\",labelpad=0)\n",
    "axs[1].set_xlabel(\"$l$\",labelpad=0)\n",
    "axs[1].tick_params(axis='both')\n",
    "axs[1].grid(b=True, which='major', axis='both', color='#808080', linestyle='--')\n",
    "# set lims\n",
    "axs[1].set_xlim(-8,20)\n",
    "axs[1].set_ylim(0.0, 8.0)\n",
    "axs[1].set_box_aspect(0.8)\n",
    "norm1 = plt.Normalize(0.0, 1.0)  # setting the limit [0,1]\n",
    "lc = LineCollection(segments, cmap=cmap, norm=norm1)\n",
    "\n",
    "# Set the values used for colormapping\n",
    "lc.set_array(comm_average_var[:,0])\n",
    "lc.set_linewidth(4)\n",
    "line = axs[1].add_collection(lc)\n",
    "\n",
    "divider = make_axes_locatable(axs[1])\n",
    "cax = divider.append_axes(\"right\", size=\"5%\", pad=0.15)\n",
    "\n",
    "cbar=fig.colorbar(line, cax=cax)\n",
    "cbar.set_label(\"$P_c(l)$\")\n",
    "\n",
    "axs[0].text(-0.2, 1.0, string.ascii_uppercase[0], transform=axs[0].transAxes, \n",
    "            size=11, weight='bold')\n",
    "\n",
    "axs[0].text(-0.2, -0.3, string.ascii_uppercase[1], transform=axs[0].transAxes, \n",
    "            size=11, weight='bold')\n",
    "\n",
    "plt.tight_layout(pad=0)\n",
    "if os.path.exists(output_directory):\n",
    "    plt.savefig(os.path.join(output_directory,'hp35_fe_commitor.pdf'),bbox_inches='tight')"
   ]
  },
  {
   "cell_type": "markdown",
   "metadata": {},
   "source": [
    "## Histograms of LD1 vectors for different clusters"
   ]
  },
  {
   "cell_type": "code",
   "execution_count": null,
   "metadata": {},
   "outputs": [],
   "source": [
    "fig, axs = plt.subplots(1, 2, figsize=(10,5), sharey=True, dpi=100)\n",
    "\n",
    "# ================================ #\n",
    "# folded and unfolded frames only  #\n",
    "# ================================ #\n",
    "\n",
    "ld_range = (-8,20)\n",
    "nbins=150\n",
    "\n",
    "axs[0].set_title(\"folded /unfolded\", fontsize=16)\n",
    "axs[0].set_ylabel(\"P(LD1)\",fontsize=16)\n",
    "axs[0].set_xlabel(\"$l$\", fontsize=16)\n",
    "axs[0].tick_params(axis='both',labelsize=16)\n",
    "axs[0].grid(b=True, which='major', axis='both', color='#808080', linestyle='--')\n",
    "# set lims\n",
    "#axs[0].set_xlim(-8,20)\n",
    "#axs[0].set_ylim(0.0, 10.0)\n",
    "\n",
    "# looping over clusters\n",
    "for i in range(n_clusters):\n",
    "    \n",
    "    # extracting LD values corresponding to each state\n",
    "    ld_i = ld1_fu[[x[0] for x in np.argwhere(clusters == i)]]\n",
    "    \n",
    "    # histogramming\n",
    "    hist_i ,bins = np.histogram(ld_i, range=ld_range, bins=nbins, density=True)\n",
    "    grids = (bins[1:] + bins[:-1])/2.0\n",
    "    \n",
    "    # calculate the weights\n",
    "    weight = np.argwhere(clusters==i).size/clusters.size\n",
    "    \n",
    "    #plot it\n",
    "    axs[0].plot(grids, hist_i*weight, label=\"cluster=%d\"%i, lw=2.0)\n",
    "    #axs[0].plot(grids, hist_i, label=\"cluster=%d\"%i, lw=2.0)    \n",
    "    #axes[0].fill_between(grids, hist_i)\n",
    "axs[0].legend(loc=\"upper right\", ncol=2, fontsize=\"medium\", markerscale=2.0)\n",
    "\n",
    "\n",
    "# ================================ #\n",
    "#        using all frames          #\n",
    "# ================================ #\n",
    "\n",
    "axs[1].set_title(\"all states\", fontsize=16)\n",
    "axs[1].set_xlabel(\"LD 1\", fontsize=16)\n",
    "axs[1].tick_params(axis='both',labelsize=16)\n",
    "axs[1].grid(b=True, which='major', axis='both', color='#808080', linestyle='--')\n",
    "# set lims\n",
    "#axs[1].set_xlim(-5,14)\n",
    "#axs[1].set_xlim(-8,20)\n",
    "#axs[1].set_ylim(0.0, 10.0)\n",
    "\n",
    "# looping over clusters\n",
    "for i in range(n_clusters):\n",
    "    \n",
    "    # extracting LD values corresponding to each state\n",
    "    ld_i = ld1[[x[0] for x in np.argwhere(clusters == i)]]\n",
    "    \n",
    "    # histogramming\n",
    "    hist_i ,bins = np.histogram(ld_i, range=ld_range, bins=nbins, density=True)\n",
    "    grids = (bins[1:] + bins[:-1])/2.0\n",
    "    \n",
    "    # calculate the weights\n",
    "    weight = np.argwhere(clusters==i).size/clusters.size\n",
    "    \n",
    "    #plot it\n",
    "    axs[1].plot(grids, hist_i*weight, label=\"cluster=%d\"%i, lw=2.0)\n",
    "    #axs[1].plot(grids, hist_i, label=\"cluster=%d\"%i, lw=2.0)    \n",
    "    #axes[1].fill_between(grids, hist_i)\n",
    "axs[1].legend(loc=\"upper right\", ncol=2, fontsize=\"medium\", markerscale=2.0)"
   ]
  },
  {
   "cell_type": "code",
   "execution_count": null,
   "metadata": {},
   "outputs": [],
   "source": [
    "fig, axs = plt.subplots(1, 2, figsize=(10,5), sharey=True, dpi=100)\n",
    "\n",
    "# ================================ #\n",
    "# folded and unfolded frames only  #\n",
    "# ================================ #\n",
    "\n",
    "ld_range = (-8,20)\n",
    "nbins=150\n",
    "\n",
    "axs[0].set_title(\"folded /unfolded\", fontsize=16)\n",
    "axs[0].set_ylabel(\"P(LD1)\",fontsize=16)\n",
    "axs[0].set_xlabel(\"$l$\", fontsize=16)\n",
    "axs[0].tick_params(axis='both',labelsize=16)\n",
    "axs[0].grid(b=True, which='major', axis='both', color='#808080', linestyle='--')\n",
    "# set lims\n",
    "#axs[0].set_xlim(-8,20)\n",
    "#axs[0].set_ylim(0.0, 10.0)\n",
    "\n",
    "# looping over clusters\n",
    "for i in range(n_clusters):\n",
    "    \n",
    "    # extracting LD values corresponding to each state\n",
    "    ld_i = ld1_fu[[x[0] for x in np.argwhere(clusters == i)]]\n",
    "    \n",
    "    # histogramming\n",
    "    hist_i ,bins = np.histogram(ld_i, range=ld_range, bins=nbins, density=True)\n",
    "    grids = (bins[1:] + bins[:-1])/2.0\n",
    "    \n",
    "    # calculate the weights\n",
    "    weight = np.argwhere(clusters==i).size/clusters.size\n",
    "    \n",
    "    #plot it\n",
    "    #axs[0].plot(grids, hist_i*weight, label=\"cluster=%d\"%i, lw=2.0)\n",
    "    axs[0].plot(grids, hist_i, label=\"cluster=%d\"%i, lw=2.0)    \n",
    "    #axes[0].fill_between(grids, hist_i)\n",
    "axs[0].legend(loc=\"upper right\", ncol=2, fontsize=\"medium\", markerscale=2.0)\n",
    "\n",
    "\n",
    "# ================================ #\n",
    "#        using all frames          #\n",
    "# ================================ #\n",
    "\n",
    "axs[1].set_title(\"all states\", fontsize=16)\n",
    "axs[1].set_xlabel(\"LD 1\", fontsize=16)\n",
    "axs[1].tick_params(axis='both',labelsize=16)\n",
    "axs[1].grid(b=True, which='major', axis='both', color='#808080', linestyle='--')\n",
    "# set lims\n",
    "#axs[1].set_xlim(-5,14)\n",
    "#axs[1].set_xlim(-8,20)\n",
    "#axs[1].set_ylim(0.0, 10.0)\n",
    "\n",
    "# looping over clusters\n",
    "for i in range(n_clusters):\n",
    "    \n",
    "    # extracting LD values corresponding to each state\n",
    "    ld_i = ld1[[x[0] for x in np.argwhere(clusters == i)]]\n",
    "    \n",
    "    # histogramming\n",
    "    hist_i ,bins = np.histogram(ld_i, range=ld_range, bins=nbins, density=True)\n",
    "    grids = (bins[1:] + bins[:-1])/2.0\n",
    "    \n",
    "    # calculate the weights\n",
    "    weight = np.argwhere(clusters==i).size/clusters.size\n",
    "    \n",
    "    #plot it\n",
    "    #axs[1].plot(grids, hist_i*weight, label=\"cluster=%d\"%i, lw=2.0)\n",
    "    axs[1].plot(grids, hist_i, label=\"cluster=%d\"%i, lw=2.0)    \n",
    "    #axes[1].fill_between(grids, hist_i)\n",
    "axs[1].legend(loc=\"upper right\", ncol=2, fontsize=\"medium\", markerscale=2.0)"
   ]
  },
  {
   "cell_type": "code",
   "execution_count": null,
   "metadata": {},
   "outputs": [],
   "source": [
    "grids_desres = grids.copy()\n",
    "hist_desres = hist.copy()\n",
    "fe_desres = fe-fe.min().copy()"
   ]
  },
  {
   "cell_type": "markdown",
   "metadata": {},
   "source": [
    "## 1. Probability of LD1 (folded/ unfolded) from DESRES"
   ]
  },
  {
   "cell_type": "code",
   "execution_count": null,
   "metadata": {},
   "outputs": [],
   "source": [
    "plt.figure(figsize=(6,5), dpi=80)\n",
    "plt.xlabel(\"LD 1\", fontsize=16)\n",
    "plt.ylabel(\"P (LD 1)\", fontsize=16)\n",
    "plt.grid(axis=\"both\", which=\"major\", linestyle=\"--\", color=\"lightgrey\")\n",
    "plt.plot(grids_desres, hist_desres, lw=3.0, color=\"navy\")\n",
    "\n",
    "# save\n",
    "if output_directory is not None:\n",
    "    plt.savefig(os.path.join(output_directory,\"prob_ld1_folded_unfolded.pdf\"))"
   ]
  },
  {
   "cell_type": "code",
   "execution_count": null,
   "metadata": {},
   "outputs": [],
   "source": []
  },
  {
   "cell_type": "code",
   "execution_count": null,
   "metadata": {},
   "outputs": [],
   "source": []
  },
  {
   "cell_type": "code",
   "execution_count": null,
   "metadata": {},
   "outputs": [],
   "source": []
  },
  {
   "cell_type": "code",
   "execution_count": null,
   "metadata": {},
   "outputs": [],
   "source": [
    "# load OPES_MEATD data\n",
    "time, ld1_opes, opes_bias = np.loadtxt(\"/scratch/projects/hockygroup/ss12902/opes_metad_folded_unfolded_ld1_360K/COLVAR\", usecols=(0,1,2), unpack=True)\n",
    "time *= 1e-3\n",
    "ld1_opes *= -1"
   ]
  },
  {
   "cell_type": "code",
   "execution_count": null,
   "metadata": {},
   "outputs": [],
   "source": [
    "print(opes_bias.shape)"
   ]
  },
  {
   "cell_type": "code",
   "execution_count": null,
   "metadata": {},
   "outputs": [],
   "source": []
  },
  {
   "cell_type": "code",
   "execution_count": null,
   "metadata": {},
   "outputs": [],
   "source": []
  },
  {
   "cell_type": "markdown",
   "metadata": {},
   "source": [
    "## 4a. LD1 vs. time for DESRES and OPES_METAD"
   ]
  },
  {
   "cell_type": "code",
   "execution_count": null,
   "metadata": {
    "scrolled": false
   },
   "outputs": [],
   "source": [
    "fig, axs= plt.subplots(1, 2, sharey=True, figsize=(10,5), dpi=100)\n",
    "\n",
    "axs[0].set_xlabel(\"Time ($\\\\mu$s)\", fontsize=16)\n",
    "axs[0].set_ylabel(\"$l$\", fontsize=16)\n",
    "axs[0].set_title(\"DESRES\", fontsize=16)\n",
    "axs[0].plot((np.arange(trajData.shape[0])*200.0*1e-6)[:12510:], ld1_fu[:12510:], color=\"tab:red\")\n",
    "\n",
    "\n",
    "axs[1].set_xlabel(\"Time ($\\\\mu$s)\", fontsize=16)\n",
    "axs[1].set_title(\"OPES_METAD\", fontsize=16)\n",
    "axs[1].plot(time*1e-3, ld1_opes+proj_fu_avg, color=\"tab:green\")\n",
    "\n",
    "if output_directory is not None:\n",
    "    plt.savefig(os.path.join(output_directory,\"ld1_vs_time_compare.pdf\"), format=\"pdf\")"
   ]
  },
  {
   "cell_type": "code",
   "execution_count": null,
   "metadata": {},
   "outputs": [],
   "source": [
    "# load OPES_METAD data from 10us long extended run\n",
    "time, ld1_opes, opes_bias = np.loadtxt(\"/scratch/projects/hockygroup/ss12902/opes_metad_folded_unfolded_ld1_360K/extended_data_from_glen/COLVAR\", usecols=(0,1,2), unpack=True)\n",
    "time *= 1e-3\n",
    "ld1_opes *= -1\n",
    "\n",
    "print(opes_bias.shape)"
   ]
  },
  {
   "cell_type": "code",
   "execution_count": null,
   "metadata": {},
   "outputs": [],
   "source": [
    "# =========================================================== #\n",
    "# try the same plot with 10us long OPES_METAD simulation data #\n",
    "# =========================================================== #\n",
    "\n",
    "fig, axs= plt.subplots(1, 2, sharey=True, figsize=(16,5), dpi=70)\n",
    "\n",
    "axs[0].set_xlabel(\"Time ($\\\\mu$s)\", fontsize=16)\n",
    "axs[0].set_ylabel(\"$l$\", fontsize=16)\n",
    "axs[0].set_title(\"DESRES\", fontsize=16)\n",
    "axs[0].plot((np.arange(trajData.shape[0])*200.0*1e-6)[:50040:], ld1_fu[:50040:], color=\"tab:red\")\n",
    "\n",
    "\n",
    "axs[1].set_xlabel(\"Time ($\\\\mu$s)\", fontsize=16)\n",
    "axs[1].set_title(\"OPES_METAD\", fontsize=16)\n",
    "axs[1].plot(time*1e-3, ld1_opes+proj_fu_avg, color=\"tab:green\")"
   ]
  },
  {
   "cell_type": "code",
   "execution_count": null,
   "metadata": {},
   "outputs": [],
   "source": [
    "def radgyr(atomgroup, masses, total_mass=None):\n",
    "    # coordinates change for each frame\n",
    "    coordinates = atomgroup.positions\n",
    "    center_of_mass = atomgroup.center_of_mass()\n",
    "\n",
    "    # get squared distance from center\n",
    "    ri_sq = (coordinates-center_of_mass)**2\n",
    "    # sum the unweighted positions\n",
    "    sq = np.sum(ri_sq, axis=1)\n",
    "    sq_x = np.sum(ri_sq[:,[1,2]], axis=1) # sum over y and z\n",
    "    sq_y = np.sum(ri_sq[:,[0,2]], axis=1) # sum over x and z\n",
    "    sq_z = np.sum(ri_sq[:,[0,1]], axis=1) # sum over x and y\n",
    "\n",
    "    # make into array\n",
    "    sq_rs = np.array([sq, sq_x, sq_y, sq_z])\n",
    "\n",
    "    # weight positions\n",
    "    rog_sq = np.sum(masses*sq_rs, axis=1)/total_mass\n",
    "    # square root and return\n",
    "    return np.sqrt(rog_sq)"
   ]
  },
  {
   "cell_type": "code",
   "execution_count": null,
   "metadata": {
    "scrolled": false
   },
   "outputs": [],
   "source": [
    "rog_desres = np.load(\"/scratch/projects/hockygroup/ss12902/hp35_sGMM/rog-data.npy\", allow_pickle=True)\n",
    "print(rog_desres.shape)\n",
    "#plt.plot(rog_desres[:,0])"
   ]
  },
  {
   "cell_type": "code",
   "execution_count": null,
   "metadata": {},
   "outputs": [],
   "source": [
    "#coord_new = md.Universe(\"/scratch/projects/hockygroup/ss12902/opes_metad_folded_unfolded_ld1_360K/analysis/npt.gro\",\\\n",
    "#                        \"/scratch/projects/hockygroup/ss12902/opes_metad_folded_unfolded_ld1_360K/analysis/opes_metad_ld1_hp35_360K_bf_8.0_barrier_10.0_wrapped.xtc\")\n",
    "\n",
    "coord_new = md.Universe(\"/scratch/projects/hockygroup/ss12902/opes_metad_folded_unfolded_ld1_360K/analysis/npt.gro\",\\\n",
    "                        \"/scratch/projects/hockygroup/gmh4/projects/gmm_clustering/subarna_simulations/opes_metad_folded_unfolded_ld1_360K/run_3/analysis/opes_metad_ld1_hp35_360K_bf_8.0_barrier_10.0_wrapped.xtc\")\n",
    "\n",
    "\n",
    "bb_atoms = \"(name C and resid 1) or (name C CA N and not resid 1 35) or (name N and resid 35)\"\n",
    "sel_atoms = coord_new.select_atoms(bb_atoms)\n",
    "\n",
    "#print(sel_atoms.indices)\n",
    "#print(len(sel_atoms))"
   ]
  },
  {
   "cell_type": "code",
   "execution_count": null,
   "metadata": {},
   "outputs": [],
   "source": [
    "opes_traj_file = \"opes_traj.npy\"\n",
    "if not os.path.exists(opes_traj_file):\n",
    "    opes_traj = np.empty((coord_new.trajectory.n_frames,sel_atoms.n_atoms,3),dtype=float)\n",
    "    c = 0\n",
    "    for ts in coord_new.trajectory:\n",
    "        opes_traj[c,:,:] = sel_atoms.positions - sel_atoms.center_of_geometry()\n",
    "        c += 1\n",
    "    # save opes metad \n",
    "    np.save(\"opes_traj.npy\", opes_traj)\n",
    "else:\n",
    "    opes_traj = np.load(\"opes_traj.npy\", allow_pickle=True)\n",
    "print(opes_traj.shape)"
   ]
  },
  {
   "cell_type": "code",
   "execution_count": null,
   "metadata": {},
   "outputs": [],
   "source": [
    "rog_file = \"rog_metad_opes_10us.npy\"\n",
    "\n",
    "if not os.path.exists(rog_file):\n",
    "    from MDAnalysis.analysis.base import (AnalysisBase,AnalysisFromFunction,analysis_class)\n",
    "\n",
    "    # calculate the radius of gyration for entore trajectory\n",
    "    rog = AnalysisFromFunction(radgyr, coord_new.trajectory, sel_atoms, sel_atoms.masses, total_mass=np.sum(sel_atoms.masses))\n",
    "    rog.run()\n",
    "    rog_metad = rog.results.timeseries\n",
    "\n",
    "    np.save(rog_file, rog_metad, allow_pickle=True)\n",
    "else:\n",
    "    rog_metad = np.load(rog_file)\n",
    "    print(rog_metad.shape)"
   ]
  },
  {
   "cell_type": "code",
   "execution_count": null,
   "metadata": {},
   "outputs": [],
   "source": [
    "\n",
    "\n"
   ]
  },
  {
   "cell_type": "markdown",
   "metadata": {},
   "source": [
    "## 4b. $R_{g}$ vs. time plot for DESRES and OPES_METAD"
   ]
  },
  {
   "cell_type": "code",
   "execution_count": null,
   "metadata": {},
   "outputs": [],
   "source": [
    "fig, axs = plt.subplots(1,2, sharey=True, figsize=(10,5), dpi=100)\n",
    "\n",
    "axs[0].set_xlabel(\"Time ($\\\\mu$s)\", fontsize=16)\n",
    "axs[0].set_ylabel(\"$R_g$ ($A^o$)\", fontsize=16)\n",
    "axs[0].set_title(\"DESRES\", fontsize=16)\n",
    "\n",
    "#axs[0].plot((np.arange(trajData.shape[0])*200.0*1e-6)[:12510:], rog_desres[:,0][:12510:], color=\"teal\")\n",
    "axs[0].plot((np.arange(trajData.shape[0])*200.0*1e-6)[:50040:], rog_desres[:,0][:50040:], color=\"teal\")\n",
    "\n",
    "\n",
    "\n",
    "axs[1].set_xlabel(\"Time ($\\\\mu$s)\", fontsize=16)\n",
    "axs[1].set_title(\"OPES_METAD\", fontsize=16)\n",
    "axs[1].plot(np.arange(rog_metad.shape[0])*50*1e-6, rog_metad[:,0], color=\"purple\")\n",
    "\n",
    "if output_directory is not None:\n",
    "    plt.savefig(os.path.join(output_directory,\"rg_vs_time_compare.pdf\"), format=\"pdf\")"
   ]
  },
  {
   "cell_type": "markdown",
   "metadata": {},
   "source": [
    "## 5. FE vs. LD1 for DESRES and OPES_METAD "
   ]
  },
  {
   "cell_type": "markdown",
   "metadata": {},
   "source": [
    "# load data (Used the same range and nbins as DESRES!)\n",
    "x, fx = np.loadtxt(\"/scratch/projects/hockygroup/ss12902/opes_metad_folded_unfolded_ld1_360K/analysis/fe_ld1_state.dat\", usecols=(0,1), unpack=True)\n",
    "x *= -1.0    # change sign \n",
    "fx /= 4.184  # convert to kcal/mol\n",
    "gamma = 8    # gamma/BF = T+delT/T;"
   ]
  },
  {
   "cell_type": "markdown",
   "metadata": {},
   "source": [
    "fig, axs = plt.subplots(1, 2, sharey=True, figsize=(10,5), dpi=100)\n",
    "\n",
    "axs[0].set_xlim(-8,20)\n",
    "axs[0].set_ylim(0,10)\n",
    "axs[0].set_xlabel(\"LD 1\", fontsize=16)\n",
    "axs[0].set_ylabel(\"FE (kcal/mol)\", fontsize=16)\n",
    "axs[0].set_title(\"DESRES\", fontsize=16)\n",
    "axs[0].grid(axis=\"both\", which=\"major\", linestyle=\"--\", color=\"lightgrey\")\n",
    "axs[0].plot(grids, fe-fe.min(), lw=3.0, color=\"purple\")\n",
    "\n",
    "\n",
    "axs[1].set_xlim(-8,20)\n",
    "axs[1].set_ylim(0,10)\n",
    "axs[1].set_xlabel(\"LD 1\", fontsize=16)\n",
    "axs[1].set_title(\"OPES_METAD\", fontsize=16)\n",
    "axs[1].grid(axis=\"both\", which=\"major\", linestyle=\"--\", color=\"lightgrey\")\n",
    "\n",
    "axs[1].plot(x+proj_fu_avg, fx, lw=3.0, color=\"deeppink\") \n",
    "\n",
    "# save\n",
    "if output_directory is not None:\n",
    "    plt.savefig(os.path.join(output_directory,\"fe_vs_ld1_compare.pdf\"), format=\"pdf\")"
   ]
  },
  {
   "cell_type": "code",
   "execution_count": null,
   "metadata": {},
   "outputs": [],
   "source": [
    "# load data (Used the same range and nbins as DESRES!)\n",
    "x, fx = np.loadtxt(\"/scratch/projects/hockygroup/ss12902/opes_metad_folded_unfolded_ld1_360K/extended_data_from_glen/analysis/fe_ld1_state.dat\", usecols=(0,1), unpack=True)\n",
    "x *= -1.0    # change sign \n",
    "fx /= 4.184  # convert to kcal/mol\n",
    "gamma = 8    # gamma/BF = T+delT/T;"
   ]
  },
  {
   "cell_type": "code",
   "execution_count": null,
   "metadata": {},
   "outputs": [],
   "source": [
    "# try the same plot with extended 10us long OPES_METAD data\n",
    "\n",
    "fig, axs = plt.subplots(1, 2, sharey=True, figsize=(10,5), dpi=100)\n",
    "\n",
    "axs[0].set_xlim(-8,20)\n",
    "axs[0].set_ylim(0,10)\n",
    "axs[0].set_xlabel(\"$l$\", fontsize=16)\n",
    "axs[0].set_ylabel(\"FE (kcal/mol)\", fontsize=16)\n",
    "axs[0].set_title(\"DESRES\", fontsize=16)\n",
    "axs[0].grid(axis=\"both\", which=\"major\", linestyle=\"--\", color=\"lightgrey\")\n",
    "axs[0].plot(grids, fe-fe.min(), lw=3.0, color=\"purple\")\n",
    "\n",
    "\n",
    "axs[1].set_xlim(-8,20)\n",
    "axs[1].set_ylim(0,10)\n",
    "axs[1].set_xlabel(\"$l$\", fontsize=16)\n",
    "axs[1].set_title(\"OPES_METAD\", fontsize=16)\n",
    "axs[1].grid(axis=\"both\", which=\"major\", linestyle=\"--\", color=\"lightgrey\")\n",
    "\n",
    "\n",
    "axs[1].plot(x+proj_fu_avg, fx, lw=3.0, color=\"deeppink\") "
   ]
  },
  {
   "cell_type": "code",
   "execution_count": null,
   "metadata": {},
   "outputs": [],
   "source": [
    "fig, axs = plt.subplots(2,1, figsize=(3.33,4.5))\n",
    "\n",
    "axs[0].set_xlabel(\"Time ($\\mathrm{\\\\mu}$s)\",labelpad=0)\n",
    "#axs[0].set_title(\"OPES-MetaD\")\n",
    "l = axs[0].plot(time*1e-3, ld1_opes+proj_fu_avg,c='navy')\n",
    "axs[0].set_ylabel(\"$l$\",labelpad=0)\n",
    "\n",
    "axs[1].set_xlim(-8,20)\n",
    "axs[1].set_ylim(0,10)\n",
    "axs[1].set_xlabel(\"$l$\",labelpad=0)\n",
    "axs[1].set_ylabel(\"FE (kcal/mol)\",labelpad=0)\n",
    "axs[1].grid(axis=\"both\", which=\"major\", linestyle=\"--\", color=\"lightgrey\")\n",
    "\n",
    "axs[1].plot(x+proj_fu_avg, fx, lw=2.0, label=\"OPES-MetaD\",c='navy' ) \n",
    "\n",
    "axs[1].plot(grids_desres, fe_desres-fe_desres.min(), label='MD',linestyle='--',lw=2,c='olive')\n",
    "\n",
    "\n",
    "axs[1].set_xlim(-8,20)\n",
    "axs[1].set_ylim(0,10)\n",
    "axs[1].set_xlabel(\"$l$\")\n",
    "\n",
    "\n",
    "axs[1].legend(loc=0)\n",
    "\n",
    "axs[0].text(-0.15, 1.0, string.ascii_uppercase[0], transform=axs[0].transAxes, \n",
    "            size=11, weight='bold')\n",
    "\n",
    "axs[0].text(-0.15, -0.3, string.ascii_uppercase[1], transform=axs[0].transAxes, \n",
    "            size=11, weight='bold')\n",
    "\n",
    "plt.tight_layout(pad=0)\n",
    "\n",
    "if os.path.exists(output_directory):\n",
    "    plt.savefig(os.path.join(output_directory,'hp35_opes_fes.pdf'),bbox_inches='tight')"
   ]
  },
  {
   "cell_type": "markdown",
   "metadata": {},
   "source": [
    "### let's do cluster prediction on OPES_METAD trajdata"
   ]
  },
  {
   "cell_type": "code",
   "execution_count": null,
   "metadata": {},
   "outputs": [],
   "source": [
    "# predcit\n",
    "clusters_opes_metad,_,_ = wsgmm.predict_weighted(opes_traj[1::,:,:])\n",
    "print(clusters_opes_metad.shape)\n",
    "\n",
    "\n",
    "import matplotlib as mpl\n",
    "#---------------------------------#\n",
    "\n",
    "bounds = np.arange(7)\n",
    "cmap = mpl.cm.viridis\n",
    "#norm = mpl.colors.BoundaryNorm(bounds, cmap.N, extend='both')\n",
    "norm = mpl.colors.BoundaryNorm(bounds, cmap.N)\n",
    "\n",
    "plt.scatter(np.arange(len(clusters_opes_metad)), clusters_opes_metad, c=clusters_opes_metad, marker='.', norm=norm)"
   ]
  },
  {
   "cell_type": "code",
   "execution_count": null,
   "metadata": {},
   "outputs": [],
   "source": [
    "f_ind = np.array([x[0] for x in np.argwhere(clusters_opes_metad == 0)])\n",
    "u_ind = np.array([x[0] for x in np.argwhere(clusters_opes_metad == 4)])\n",
    "\n",
    "print(f_ind.shape)\n",
    "print(u_ind.shape)"
   ]
  },
  {
   "cell_type": "code",
   "execution_count": null,
   "metadata": {},
   "outputs": [],
   "source": [
    "cluster_ids, cluster_populations = np.unique(clusters_opes_metad,return_counts=True)\n",
    "n_clusters = cluster_ids.size\n",
    "\n",
    "print(\"Total no. of clusters =\", n_clusters)\n",
    "print(\"Cluster ID:\", cluster_ids)\n",
    "print(\"Populations of clusters:\", cluster_populations)"
   ]
  },
  {
   "cell_type": "markdown",
   "metadata": {},
   "source": [
    "## Make some plots on 2D RMSD space"
   ]
  },
  {
   "cell_type": "markdown",
   "metadata": {},
   "source": [
    "## RMSD plots using OPES_METAD data"
   ]
  },
  {
   "cell_type": "code",
   "execution_count": null,
   "metadata": {},
   "outputs": [],
   "source": [
    "opes_rmsd_file = \"opes_rmsd_data_10us.npy\"\n",
    "\n",
    "if not os.path.exists(opes_rmsd_file):\n",
    "    # rmsds\n",
    "    rmsd_h1 = np.empty(coord_new.trajectory.n_frames-1,dtype=float)\n",
    "    rmsd_h2 = np.empty(coord_new.trajectory.n_frames-1,dtype=float)\n",
    "    rmsd_h3 = np.empty(coord_new.trajectory.n_frames-1,dtype=float)\n",
    "\n",
    "    # atom selections\n",
    "    h1 = coord_new.select_atoms(\"name C CA N and resid 4:11\")\n",
    "    h2 = coord_new.select_atoms(\"name C CA N and resid 15:20\")\n",
    "    h3 = coord_new.select_atoms(\"name C CA N and resid 23:32\")\n",
    "\n",
    "    # make first frame the reference (arbitrary but there you have it)\n",
    "    h1_ref = np.copy(h1.positions)\n",
    "    h2_ref = np.copy(h2.positions)\n",
    "    h3_ref = np.copy(h3.positions)\n",
    "\n",
    "    #print(hx_ref)\n",
    "    for ts in coord_new.trajectory[1::]:\n",
    "        rmsd_h1[ts.frame-1] = rmsd(h1.positions,h1_ref,superposition=True)\n",
    "        rmsd_h2[ts.frame-1] = rmsd(h2.positions,h2_ref,superposition=True)\n",
    "        rmsd_h3[ts.frame-1] = rmsd(h3.positions,h3_ref,superposition=True)\n",
    "\n",
    "    opes_rmsd_data  = np.array([rmsd_h1, rmsd_h2, rmsd_h3]).T\n",
    "    np.save(opes_rmsd_file, opes_rmsd_data, allow_pickle=True)\n",
    "else:\n",
    "    opes_rmsd_data = np.load(opes_rmsd_file, allow_pickle=True)\n",
    "    rmsd_h1 = opes_rmsd_data[:,0]\n",
    "    rmsd_h2 = opes_rmsd_data[:,1]\n",
    "    rmsd_h3 = opes_rmsd_data[:,2]"
   ]
  },
  {
   "cell_type": "code",
   "execution_count": null,
   "metadata": {},
   "outputs": [],
   "source": [
    "import matplotlib as mpl\n",
    "#---------------------------------#\n",
    "\n",
    "bounds = np.arange(7)\n",
    "cmap = mpl.cm.viridis\n",
    "#norm = mpl.colors.BoundaryNorm(bounds, cmap.N, extend='both')\n",
    "norm = mpl.colors.BoundaryNorm(bounds, cmap.N)\n",
    "\n",
    "plt.figure(figsize=(6,5), dpi=80)\n",
    "plt.xlabel(\"RMSD wrt Helix-1 ($A^o$)\", fontsize=16)\n",
    "plt.ylabel(\"RMSD wrt Helix-3 ($A^o$)\",fontsize=16)\n",
    "plt.scatter(rmsd_h1, rmsd_h3, c=clusters_opes_metad, norm=norm)\n",
    "cbar=plt.colorbar()"
   ]
  },
  {
   "cell_type": "code",
   "execution_count": null,
   "metadata": {},
   "outputs": [],
   "source": [
    "print(opes_bias.shape)\n",
    "print(opes_bias[::50].shape)\n",
    "print(opes_bias[::50][1:opes_traj.shape[0]:].shape)\n",
    "print(rmsd_h1.shape)\n",
    "print(rmsd_h2.shape)\n",
    "print(opes_traj.shape)"
   ]
  },
  {
   "cell_type": "code",
   "execution_count": null,
   "metadata": {},
   "outputs": [],
   "source": [
    "import matplotlib.cm as cm\n",
    "\n",
    "plt.figure(figsize=(6, 5),dpi=80)\n",
    "plt.xlabel(\"RMSD wrt Helix-1 ($A^o$)\",fontsize=16)\n",
    "plt.ylabel(\"RMSD wrt Helix-3 ($A^o$)\",fontsize=16)\n",
    "plt.xlim(0, max(rmsd_h1))\n",
    "plt.ylim(0, max(rmsd_h3))\n",
    "x = rmsd_h1.copy()\n",
    "y = rmsd_h3.copy()\n",
    "\n",
    "print(x.shape)\n",
    "\n",
    "H, xedges, yedges = np.histogram2d(x,y,bins=40,density=True, weights=np.exp(opes_bias[::50][1:opes_traj.shape[0]:]/kbt))\n",
    "\n",
    "xcenters = (xedges[:-1] + xedges[1:]) / 2\n",
    "ycenters = (yedges[:-1] + yedges[1:]) / 2\n",
    "H = -kbt*np.log(H.T)   # not multiplying here with the prefactor\n",
    "H -= H.min()\n",
    "xx, yy = np.meshgrid(xcenters, ycenters)\n",
    "im = plt.contourf(xx,yy,H,cmap='gnuplot2', levels=40)\n",
    "plt.contour(xx,yy,H, cmap=\"binary\", levels=15, linestyles=\"--\")\n",
    "\n",
    "plt.plot(x[f_ind], y[f_ind], '.', color=\"red\", alpha=0.3, label=\"folded\")\n",
    "plt.plot(x[u_ind], y[u_ind], '.', color=\"black\", alpha=0.3, label=\"unfolded\")\n",
    "#plt.legend(loc=\"upper right\", fontsize=\"small\")\n",
    "\n",
    "\n",
    "plt.tick_params(axis='both',labelsize=16)\n",
    "plt.grid(b=True, which='major', axis='both', color='#808080', linestyle=\"dashed\")\n",
    "cbar=plt.colorbar(im)\n",
    "cbar.set_label(\"FE (kcal/mol)\", fontsize=16)"
   ]
  },
  {
   "cell_type": "code",
   "execution_count": null,
   "metadata": {},
   "outputs": [],
   "source": [
    "import matplotlib.cm as cm\n",
    "\n",
    "plt.figure(figsize=(6, 5),dpi=80)\n",
    "plt.xlabel(\"RMSD wrt Helix-1\",fontsize=16)\n",
    "plt.ylabel(\"RMSD wrt Helix-2\",fontsize=16)\n",
    "plt.xlim(0, max(rmsd_h1))\n",
    "plt.ylim(0, max(rmsd_h2))\n",
    "x = rmsd_h1.copy()\n",
    "y = rmsd_h2.copy()\n",
    "\n",
    "H, xedges, yedges = np.histogram2d(x,y,bins=40,density=True, weights=np.exp(opes_bias[::50][1:opes_traj.shape[0]:]/kbt))\n",
    "\n",
    "xcenters = (xedges[:-1] + xedges[1:]) / 2\n",
    "ycenters = (yedges[:-1] + yedges[1:]) / 2\n",
    "H = -kbt*np.log(H.T)   # not multiplying here with the prefactor\n",
    "H -= H.min()\n",
    "xx, yy = np.meshgrid(xcenters, ycenters)\n",
    "im = plt.contourf(xx,yy,H,cmap='gnuplot2', levels=40)\n",
    "plt.contour(xx,yy,H, cmap=\"binary\", levels=15, linestyles=\"--\")\n",
    "plt.tick_params(axis='both',labelsize=16)\n",
    "plt.grid(b=True, which='major', axis='both', color='#808080', linestyle=\"dashed\")\n",
    "cbar=plt.colorbar(im)\n",
    "cbar.set_label(\"FE (kcal/mol)\", fontsize=16)"
   ]
  },
  {
   "cell_type": "code",
   "execution_count": null,
   "metadata": {},
   "outputs": [],
   "source": [
    "import matplotlib.cm as cm\n",
    "\n",
    "plt.figure(figsize=(6, 5),dpi=80)\n",
    "plt.xlabel(\"RMSD wrt Helix-2\",fontsize=16)\n",
    "plt.ylabel(\"RMSD wrt Helix-3\",fontsize=16)\n",
    "plt.xlim(0, max(rmsd_h2))\n",
    "plt.ylim(0, max(rmsd_h3))\n",
    "x = rmsd_h2.copy()\n",
    "y = rmsd_h3.copy()\n",
    "\n",
    "H, xedges, yedges = np.histogram2d(x,y,bins=40,density=True, weights=np.exp(opes_bias[::50][1:opes_traj.shape[0]:]/kbt))\n",
    "\n",
    "xcenters = (xedges[:-1] + xedges[1:]) / 2\n",
    "ycenters = (yedges[:-1] + yedges[1:]) / 2\n",
    "H = -kbt*np.log(H.T)   # not multiplying here with the prefactor\n",
    "H -= H.min()\n",
    "xx, yy = np.meshgrid(xcenters, ycenters)\n",
    "im = plt.contourf(xx,yy,H,cmap='gnuplot2', levels=40)\n",
    "plt.contour(xx,yy,H, cmap=\"binary\", levels=15, linestyles=\"--\")\n",
    "plt.tick_params(axis='both',labelsize=16)\n",
    "plt.grid(b=True, which='major', axis='both', color='#808080', linestyle=\"dashed\")\n",
    "cbar=plt.colorbar(im)\n",
    "cbar.set_label(\"FE (kcal/mol)\", fontsize=16)"
   ]
  },
  {
   "cell_type": "markdown",
   "metadata": {},
   "source": [
    "## RMSD plots using DESRES data"
   ]
  },
  {
   "cell_type": "code",
   "execution_count": null,
   "metadata": {},
   "outputs": [],
   "source": [
    "desres_rmsd_file = \"desres_rmsd_data.npy\"\n",
    "if not os.path.exists(desres_rmsd_file):\n",
    "    # rmsds\n",
    "    rmsd_h1_desres = np.empty(coord.trajectory.n_frames-1,dtype=float)\n",
    "    rmsd_h2_desres = np.empty(coord.trajectory.n_frames-1,dtype=float)\n",
    "    rmsd_h3_desres = np.empty(coord.trajectory.n_frames-1,dtype=float)\n",
    "\n",
    "    # atom selections\n",
    "    h1_desres = coord.select_atoms(\"name C CA N and resid 45:52\")\n",
    "    h2_desres = coord.select_atoms(\"name C CA N and resid 56:61\")\n",
    "    h3_desres = coord.select_atoms(\"name C CA N and resid 64:73\")\n",
    "\n",
    "    # make first frame the reference (arbitrary but there you have it)\n",
    "    h1_ref_desres = np.copy(h1_desres.positions)\n",
    "    h2_ref_desres = np.copy(h2_desres.positions)\n",
    "    h3_ref_desres = np.copy(h3_desres.positions)\n",
    "\n",
    "    for ts in coord.trajectory[1::]:\n",
    "        rmsd_h1_desres[ts.frame-1] = rmsd(h1_desres.positions,h1_ref_desres,superposition=True)\n",
    "        rmsd_h2_desres[ts.frame-1] = rmsd(h2_desres.positions,h2_ref_desres,superposition=True)\n",
    "        rmsd_h3_desres[ts.frame-1] = rmsd(h3_desres.positions,h3_ref_desres,superposition=True)\n",
    "    desres_rmsd_data  = np.array([rmsd_h1_desres, rmsd_h2_desres, rmsd_h3_desres]).T\n",
    "    np.save(desres_rmsd_file, desres_rmsd_data, allow_pickle=True)\n",
    "else:\n",
    "    desres_rmsd_data = np.load(desres_rmsd_file, allow_pickle=True)\n",
    "    print(desres_rmsd_data.shape)\n",
    "\n",
    "    rmsd_h1_desres = desres_rmsd_data[:,0]\n",
    "    rmsd_h2_desres = desres_rmsd_data[:,1]\n",
    "    rmsd_h3_desres = desres_rmsd_data[:,2]"
   ]
  },
  {
   "cell_type": "code",
   "execution_count": null,
   "metadata": {},
   "outputs": [],
   "source": [
    "import matplotlib.cm as cm\n",
    "\n",
    "plt.figure(figsize=(6, 5),dpi=80)\n",
    "plt.title(\"DESRES\", fontsize=16)\n",
    "plt.xlabel(\"RMSD wrt Helix-1 ($A^o$)\",fontsize=16)\n",
    "plt.ylabel(\"RMSD wrt Helix-3 ($A^o$)\",fontsize=16)\n",
    "plt.xlim(0, max(rmsd_h1_desres))\n",
    "plt.ylim(0, max(rmsd_h3_desres))\n",
    "x = rmsd_h1_desres.copy()\n",
    "y = rmsd_h3_desres.copy()\n",
    "H, xedges, yedges = np.histogram2d(x,y,bins=40,density=True)\n",
    "xcenters = (xedges[:-1] + xedges[1:]) / 2\n",
    "ycenters = (yedges[:-1] + yedges[1:]) / 2\n",
    "H = -kbt*np.log(H.T)   # not multiplying here with the prefactor\n",
    "H -= H.min()\n",
    "xx, yy = np.meshgrid(xcenters, ycenters)\n",
    "im = plt.contourf(xx,yy,H,cmap='gnuplot2', levels=40)\n",
    "plt.contour(xx,yy,H, cmap=\"binary\", levels=15, linestyles=\"--\")\n",
    "\n",
    "#plt.plot(x[f_ind], y[f_ind], '.', color=\"red\", alpha=0.3, label=\"folded\")\n",
    "#plt.plot(x[u_ind], y[u_ind], '.', color=\"black\", alpha=0.3, label=\"unfolded\")\n",
    "#plt.legend(loc=\"upper right\", fontsize=\"small\")\n",
    "\n",
    "plt.tick_params(axis='both',labelsize=16)\n",
    "plt.grid(b=True, which='major', axis='both', color='#808080', linestyle=\"dashed\")\n",
    "cbar=plt.colorbar(im)\n",
    "cbar.set_label(\"FE (kcal/mol)\", fontsize=16)"
   ]
  },
  {
   "cell_type": "code",
   "execution_count": null,
   "metadata": {},
   "outputs": [],
   "source": [
    "\n",
    "\n",
    "#---------------------------------#\n",
    "\n",
    "bounds = np.arange(7)\n",
    "cmap = mpl.cm.viridis\n",
    "#norm = mpl.colors.BoundaryNorm(bounds, cmap.N, extend='both')\n",
    "norm = mpl.colors.BoundaryNorm(bounds, cmap.N)\n",
    "\n",
    "import string \n",
    "fig = plt.figure(figsize=(3.33,7))\n",
    "ax1 = fig.add_subplot(3,1,1,adjustable='box',aspect=1.0)\n",
    "ax1.set_xlabel(\"RMSD wrt Helix-1 ($\\AA$)\",labelpad=0)\n",
    "ax1.set_ylabel(\"RMSD wrt Helix-3 ($\\AA$)\",labelpad=0)\n",
    "ax1.set_xlim(0,5)\n",
    "ax1.set_ylim(0,5)\n",
    "ax1.set_xticks(np.arange(0,6))\n",
    "cm = ax1.scatter(rmsd_h1_desres[::100], rmsd_h3_desres[::100], c=clusters[1::100], norm=norm, s=5)\n",
    "\n",
    "ax1.contour(xx,yy,H, colors='k', levels=np.arange(0,6,0.5),lw=0.5,alpha=0.5 )\n",
    "\n",
    "\n",
    "divider = make_axes_locatable(ax1)\n",
    "cax = divider.append_axes(\"right\", size=\"5%\", pad=0.15)\n",
    "\n",
    "cbar=fig.colorbar(cm, cax=cax)\n",
    "loc = bounds + .5\n",
    "cbar.set_ticks(loc)\n",
    "cbar.set_ticklabels(bounds)\n",
    "\n",
    "plt.rcParams[\"figure.figsize\"] = [3.33, 3.12]\n",
    "plt.rcParams[\"figure.autolayout\"] = True\n",
    "\n",
    "ax2 = fig.add_subplot(3,1,2)\n",
    "img = plt.imread(open(\"figures/hp35_vector_size6.dat.tga\",'rb'))\n",
    "ax2.imshow(img)\n",
    "ax2.axis('off')\n",
    "\n",
    "ax3 = fig.add_subplot(3,1,3,adjustable='box',aspect=18)\n",
    "\n",
    "ld_range = (-8,20)\n",
    "nbins=150\n",
    "\n",
    "ax3.set_ylabel(\"$P(l)$\",labelpad=0)\n",
    "ax3.set_xlabel(\"$l$\",labelpad=0)\n",
    "ax3.tick_params(axis='both')\n",
    "ax3.grid(b=True, which='major', axis='both', color='#808080', linestyle='--')\n",
    "# set lims\n",
    "ax3.set_xlim(-8,17)\n",
    "#axs[0].set_ylim(0.0, 10.0)\n",
    "\n",
    "# looping over clusters\n",
    "for i in range(n_clusters):\n",
    "    \n",
    "    # extracting LD values corresponding to each state\n",
    "    ld_i = ld1_fu[[x[0] for x in np.argwhere(clusters == i)]]\n",
    "    \n",
    "    # histogramming\n",
    "    hist_i ,bins = np.histogram(ld_i, range=ld_range, bins=nbins, density=True)\n",
    "    grids = (bins[1:] + bins[:-1])/2.0\n",
    "    \n",
    "    # calculate the weights\n",
    "    weight = np.argwhere(clusters==i).size/clusters.size\n",
    "    \n",
    "    #plot it\n",
    "    #axs[0].plot(grids, hist_i*weight, label=\"cluster=%d\"%i, lw=2.0)\n",
    "    ax3.plot(grids, hist_i, label=\"c=%d\"%i, lw=2.0)    \n",
    "    #axes[0].fill_between(grids, hist_i)\n",
    "ax3.set_xticks(np.arange(-5,16,5))\n",
    "ax3.legend(loc=0, ncol=2, fontsize=8)\n",
    "\n",
    "\n",
    "ax1.text(-0.25, 1.0, string.ascii_uppercase[0], transform=ax1.transAxes, \n",
    "            size=11, weight='bold')\n",
    "\n",
    "ax1.text(-0.25, -0.3, string.ascii_uppercase[1], transform=ax1.transAxes, \n",
    "            size=11, weight='bold')\n",
    "\n",
    "ax3.text(-0.25, 1.0, string.ascii_uppercase[2], transform=ax3.transAxes, \n",
    "            size=11, weight='bold')\n",
    "#plt.subplots_adjust(wspace=None, hspace=0.1)\n",
    "plt.tight_layout(pad=0)\n",
    "if os.path.exists(output_directory):\n",
    "    plt.savefig(os.path.join(output_directory,'hp35_ld_training.pdf'),bbox_inches='tight',dpi=250)\n"
   ]
  },
  {
   "cell_type": "code",
   "execution_count": null,
   "metadata": {},
   "outputs": [],
   "source": [
    "bounds = np.arange(7)\n",
    "cmap = mpl.cm.viridis\n",
    "norm = mpl.colors.BoundaryNorm(bounds, cmap.N)\n",
    "\n",
    "plt.figure(figsize=(3.33,5), dpi=80)\n",
    "plt.title(\"DESRES\", fontsize=16)\n",
    "plt.xlabel(\"RMSD wrt Helix-1 ($A^o$)\", fontsize=16)\n",
    "plt.ylabel(\"RMSD wrt Helix-3 ($A^o$)\",fontsize=16)\n",
    "plt.scatter(rmsd_h1_desres, rmsd_h3_desres, c=clusters[1::], norm=norm)\n",
    "cbar=plt.colorbar()"
   ]
  },
  {
   "cell_type": "code",
   "execution_count": null,
   "metadata": {},
   "outputs": [],
   "source": []
  },
  {
   "cell_type": "code",
   "execution_count": null,
   "metadata": {},
   "outputs": [],
   "source": [
    "import matplotlib.cm as cm\n",
    "\n",
    "plt.figure(figsize=(6, 5),dpi=80)\n",
    "plt.title(\"DESRES\", fontsize=16)\n",
    "plt.xlabel(\"RMSD wrt Helix-1 ($A^o$)\",fontsize=16)\n",
    "plt.ylabel(\"RMSD wrt Helix-2 ($A^o$)\",fontsize=16)\n",
    "plt.xlim(0, max(rmsd_h1_desres))\n",
    "plt.ylim(0, max(rmsd_h2_desres))\n",
    "x = rmsd_h1_desres.copy()\n",
    "y = rmsd_h2_desres.copy()\n",
    "H, xedges, yedges = np.histogram2d(x,y,bins=40,density=True)\n",
    "xcenters = (xedges[:-1] + xedges[1:]) / 2\n",
    "ycenters = (yedges[:-1] + yedges[1:]) / 2\n",
    "H = -kbt*np.log(H.T)   # not multiplying here with the prefactor\n",
    "H -= H.min()\n",
    "xx, yy = np.meshgrid(xcenters, ycenters)\n",
    "im = plt.contourf(xx,yy,H,cmap='gnuplot2', levels=40)\n",
    "plt.contour(xx,yy,H, cmap=\"binary\", levels=15, linestyles=\"--\")\n",
    "\n",
    "#plt.plot(x[f_ind], y[f_ind], '.', color=\"red\", alpha=0.3, label=\"folded\")\n",
    "#plt.plot(x[u_ind], y[u_ind], '.', color=\"black\", alpha=0.3, label=\"unfolded\")\n",
    "#plt.legend(loc=\"upper right\", fontsize=\"small\")\n",
    "\n",
    "plt.tick_params(axis='both',labelsize=16)\n",
    "plt.grid(b=True, which='major', axis='both', color='#808080', linestyle=\"dashed\")\n",
    "cbar=plt.colorbar(im)\n",
    "cbar.set_label(\"FE (kcal/mol)\", fontsize=16)"
   ]
  },
  {
   "cell_type": "markdown",
   "metadata": {},
   "source": [
    "## plot FE vs rmsds sidewise for DESRES and OPES_METAD"
   ]
  },
  {
   "cell_type": "code",
   "execution_count": null,
   "metadata": {},
   "outputs": [],
   "source": [
    "import matplotlib.cm as cm\n",
    "\n",
    "fig, axs = plt.subplots(1,2, figsize=(6.5,3), sharey=True)\n",
    "\n",
    "\n",
    "\n",
    "# DESRES\n",
    "axs[0].set_title(\"MD\")\n",
    "axs[0].set_xlabel(\"RMSD wrt Helix-1 ($\\AA$)\",labelpad=0)\n",
    "axs[0].set_ylabel(\"RMSD wrt Helix-3 ($\\AA$)\",labelpad=0)\n",
    "axs[0].set_xlim(0, 5.5)\n",
    "axs[0].set_ylim(0, 5.5)\n",
    "axs[0].set_xticks((1,2,3,4))\n",
    "axs[0].set_yticks((1,2,3,4))\n",
    "axs[0].set_box_aspect(1.0)\n",
    "\n",
    "x = rmsd_h1_desres.copy()\n",
    "y = rmsd_h3_desres.copy()\n",
    "H, xedges, yedges = np.histogram2d(x,y,bins=40,density=True)\n",
    "xcenters = (xedges[:-1] + xedges[1:]) / 2\n",
    "ycenters = (yedges[:-1] + yedges[1:]) / 2\n",
    "H = -kbt*np.log(H.T)   # not multiplying here with the prefactor\n",
    "H -= H.min()\n",
    "xx, yy = np.meshgrid(xcenters, ycenters)\n",
    "im = axs[0].contourf(xx,yy,H,cmap='gnuplot2', levels=np.arange(0,10.1,0.1))\n",
    "axs[0].contour(xx,yy,H, cmap=\"binary\", levels=15, vmax=10, linestyles=\"--\")\n",
    "\n",
    "axs[0].tick_params(axis='both')\n",
    "axs[0].grid(b=True, which='major', axis='both', color='#808080', linestyle=\"dashed\")\n",
    "#divider = make_axes_locatable(axs[0])\n",
    "#cax = divider.append_axes(\"right\", size=\"5%\", pad=0)\n",
    "#cbar=fig.colorbar(im, cax=cax,ticks=(0,2,4,6,8,10))\n",
    "\n",
    "#cbar=plt.colorbar(im, ax=axs[0],ticks=(0,2,4,6,8,10))\n",
    "#cbar.set_label(\"FE (kcal/mol)\")\n",
    "\n",
    "# OPES_METAD\n",
    "axs[1].set_title(\"OPES-MetaD\")\n",
    "axs[1].set_ylabel(\"RMSD wrt Helix-3 ($\\AA$)\",labelpad=0)\n",
    "axs[1].set_xlabel(\"RMSD wrt Helix-1 ($\\AA$)\",labelpad=0)\n",
    "axs[1].set_xlim(0, 5.5)\n",
    "axs[1].set_ylim(0, 5.5)\n",
    "axs[1].set_box_aspect(1.0)\n",
    "axs[1].set_xticks((1,2,3,4))\n",
    "axs[1].set_yticks((1,2,3,4))\n",
    "x = rmsd_h1.copy()\n",
    "y = rmsd_h3.copy()\n",
    "\n",
    "#H, xedges, yedges = np.histogram2d(x,y,bins=40,density=True, weights=np.exp(opes_bias[::50][1::]/kbt))\n",
    "H, xedges, yedges = np.histogram2d(x,y,bins=40,density=True, weights=np.exp(opes_bias[::50][1:opes_traj.shape[0]:]/kbt))\n",
    "\n",
    "xcenters = (xedges[:-1] + xedges[1:]) / 2\n",
    "ycenters = (yedges[:-1] + yedges[1:]) / 2\n",
    "H = -kbt*np.log(H.T)   # not multiplying here with the prefactor\n",
    "H -= H.min()\n",
    "xx, yy = np.meshgrid(xcenters, ycenters)\n",
    "im = axs[1].contourf(xx,yy,H,cmap='gnuplot2', levels=np.arange(0,10.1,0.1))\n",
    "axs[1].contour(xx,yy,H, cmap=\"binary\", levels=15, vmax=10,linestyles=\"--\")\n",
    "\n",
    "axs[1].tick_params(axis='both')\n",
    "axs[1].grid(b=True, which='major', axis='both', color='#808080', linestyle=\"dashed\")\n",
    "\n",
    "#divider = make_axes_locatable(axs[1])\n",
    "#cax = divider.append_axes(\"right\", size=\"5%\", pad=0)\n",
    "#cbar=fig.colorbar(im, cax=cax,ticks=(0,2,4,6,8,10))\n",
    "\n",
    "cbar=plt.colorbar(im, ax=axs[1],ticks=(0,2,4,6,8,10))\n",
    "cbar.set_label(\"FE (kcal/mol)\")\n",
    "\n",
    "\n",
    "\n",
    "plt.tight_layout(pad=0)\n",
    "if output_directory is not None:\n",
    "    plt.savefig(os.path.join(output_directory,\"fe_vs_rmsds_compare_horizontal.pdf\"), format=\"pdf\")"
   ]
  },
  {
   "cell_type": "markdown",
   "metadata": {},
   "source": [
    "## Make the porcupine script "
   ]
  },
  {
   "cell_type": "raw",
   "metadata": {},
   "source": [
    "# DESES structure \n",
    "forFile = \"/scratch/projects/hockygroup/ss12902/hp35_sGMM/lda_scalings_global_folded_unfolded_ld1.txt\"\n",
    "vmdFile = \"vmd_porcupine.tcl\"\n",
    "\n",
    "new_univ = md.Universe(prmtopFileName)\n",
    "atoms = new_univ.select_atoms(backbone_selection_101)\n",
    "print(atoms.indices.shape)\n",
    "positions = atoms.positions\n",
    "print(positions.shape)\n",
    "forces_data = np.loadtxt(forFile)\n",
    "\n",
    "vmdOut = open(vmdFile,\"w\")\n",
    "for atom in range(positions.shape[0]):\n",
    "    forces = forces_data[atom*3:atom*3+3:]\n",
    "    #mid = positions[atom,:] + 0.5*forces\n",
    "    mid = positions[atom,:] + 0.8*forces\n",
    "    end = positions[atom,:] + forces\n",
    "    vmdOut.write(\"draw color yellow\\n\")\n",
    "    vmdOut.write(\"draw cylinder {%10.3f %10.3f %10.3f} {%10.3f %10.3f %10.3f} radius 0.05\\n\" % (positions[atom,0],positions[atom,1],positions[atom,2],mid[0],mid[1],mid[2]))\n",
    "    vmdOut.write(\"draw color red\\n\")\n",
    "    vmdOut.write(\"draw cone {%10.3f %10.3f %10.3f} {%10.3f %10.3f %10.3f} radius 0.15\\n\" % (mid[0],mid[1],mid[2],end[0],end[1],end[2]))\n",
    "\n",
    "vmdOut.close()"
   ]
  },
  {
   "cell_type": "code",
   "execution_count": null,
   "metadata": {},
   "outputs": [],
   "source": [
    "# The Topology we made for HP35.\n",
    "forFile = \"/scratch/projects/hockygroup/ss12902/hp35_sGMM/lda_scalings_global_folded_unfolded_ld1.txt\"\n",
    "vmdFile = \"vmd_porcupine.tcl\"\n",
    "\n",
    "new_univ = md.Universe(\"/scratch/projects/hockygroup/ss12902/opes_metad_folded_unfolded_ld1_360K/analysis/npt.gro\")\n",
    "atoms = new_univ.select_atoms(bb_atoms)\n",
    "print(atoms.indices.shape)\n",
    "positions = atoms.positions\n",
    "print(positions.shape)\n",
    "forces_data = np.loadtxt(forFile)*6.0\n",
    "\n",
    "vmdOut = open(vmdFile,\"w\")\n",
    "for atom in range(positions.shape[0]):\n",
    "    forces = forces_data[atom*3:atom*3+3:]\n",
    "    #print(forces.shape)\n",
    "    #mid = positions[atom,:] + 0.5*forces\n",
    "    mid = positions[atom,:] + 0.7*forces\n",
    "    end = positions[atom,:] + forces\n",
    "    vmdOut.write(\"draw color yellow\\n\")\n",
    "    vmdOut.write(\"draw cylinder {%10.3f %10.3f %10.3f} {%10.3f %10.3f %10.3f} radius 0.20\\n\" % (positions[atom,0],positions[atom,1],positions[atom,2],mid[0],mid[1],mid[2]))\n",
    "    vmdOut.write(\"draw color red\\n\")\n",
    "    vmdOut.write(\"draw cone {%10.3f %10.3f %10.3f} {%10.3f %10.3f %10.3f} radius 0.40\\n\" % (mid[0],mid[1],mid[2],end[0],end[1],end[2]))\n",
    "\n",
    "vmdOut.close()"
   ]
  },
  {
   "cell_type": "markdown",
   "metadata": {},
   "source": [
    "## get the avg. Free energy from different runs"
   ]
  },
  {
   "cell_type": "code",
   "execution_count": null,
   "metadata": {},
   "outputs": [],
   "source": [
    "# load data (Used the same range and nbins as DESRES!)\n",
    "\n",
    "#xy = np.loadtxt(\"/scratch/projects/hockygroup/ss12902/opes_metad_folded_unfolded_ld1_360K/analysis/fe_ld1_state.dat\", usecols=(0,1))\n",
    "\n",
    "xy = np.loadtxt(\"/scratch/projects/hockygroup/ss12902/opes_metad_folded_unfolded_ld1_360K/extended_data_from_glen/analysis/fe_ld1_state.dat\", usecols=(0,1))\n",
    "\n",
    "fe_data = [xy]\n",
    "for i in range(3):\n",
    "    xy = np.loadtxt(\"/scratch/projects/hockygroup/ss12902/opes_metad_folded_unfolded_ld1_360K/run_%d/analysis/fe_ld1_state.dat\"%(i+1), usecols=(0,1))\n",
    "    fe_data.append(xy)\n",
    "fe_data = np.array(fe_data)\n",
    "print(fe_data.shape)"
   ]
  },
  {
   "cell_type": "code",
   "execution_count": null,
   "metadata": {},
   "outputs": [],
   "source": [
    "fig, axs = plt.subplots(1, 4, sharex=True, sharey=True, figsize=(7,2.3))\n",
    "colors = [\"tab:blue\", \"tab:orange\", \"tab:green\", \"tab:red\", \"tab:purple\"]\n",
    "\n",
    "for i in range(4):\n",
    "    if i==0:\n",
    "        axs[i].set_ylabel(\"FE (kcal/mol)\", fontsize=12)\n",
    "    axs[i].set_ylim(0.0, 10.0)\n",
    "    axs[i].set_xlim(-8.0, 20.0)\n",
    "    axs[i].set_title(\"Run %d\"%(i+1), fontsize=12)\n",
    "    axs[i].set_xlabel(\"$l$\", fontsize=12)\n",
    "    \n",
    "    axs[i].plot(fe_data[i,:,0]*-1+proj_fu_avg, fe_data[i,:,1]*(1/4.184), lw=3.0, color=colors[i])\n",
    "\n",
    "\n",
    "    axs[i].plot(grids_desres, fe_desres, linestyle='--', color=\"k\")\n",
    "\n",
    "plt.tight_layout(pad=0)\n",
    "if output_directory is not None:\n",
    "    plt.savefig(os.path.join(output_directory,\"hp35_compare_four_runs.pdf\"), format=\"pdf\")"
   ]
  },
  {
   "cell_type": "code",
   "execution_count": null,
   "metadata": {},
   "outputs": [],
   "source": []
  },
  {
   "cell_type": "markdown",
   "metadata": {},
   "source": [
    "## plot LD1 vs. time for different runs "
   ]
  },
  {
   "cell_type": "code",
   "execution_count": null,
   "metadata": {},
   "outputs": [],
   "source": [
    "ld1_data=[]\n",
    "ld1_data = [ld1_opes]\n",
    "for i in range(3):\n",
    "    l = np.loadtxt(\"/scratch/projects/hockygroup/ss12902/opes_metad_folded_unfolded_ld1_360K/run_%d/COLVAR\"%(i+1), usecols=1)*-1.0\n",
    "    l += proj_fu_avg\n",
    "    ld1_data.append(l)\n",
    "ld1_data = np.array(ld1_data)\n",
    "print(ld1_data.shape)"
   ]
  },
  {
   "cell_type": "code",
   "execution_count": null,
   "metadata": {},
   "outputs": [],
   "source": [
    "fig, axs = plt.subplots(2, 4, sharey='row', figsize=(7,4.3))\n",
    "colors = [\"tab:blue\", \"tab:orange\", \"tab:green\", \"tab:red\", \"tab:purple\"]\n",
    "\n",
    "for i in range(4):\n",
    "    time = np.arange(ld1_data[i].shape[0])*1e-6\n",
    "    axs[0,i].plot(time, ld1_data[i], color=colors[i])\n",
    "    if i==0:\n",
    "        axs[0,i].set_ylabel(\"$l$\", fontsize=12)\n",
    "    #axs[,i].set_ylim(0.0, 10.0)\n",
    "    #axs[1,i].set_xlim(-8.0, 20.0)\n",
    "    axs[0,i].set_title(\"Run %d\"%(i+1), fontsize=12)\n",
    "    axs[0,i].set_xlabel(\"$t$ ($\\mathrm{\\mu}s)$\", fontsize=12)\n",
    "    \n",
    "for i in range(4):\n",
    "    if i==0:\n",
    "        axs[1,i].set_ylabel(\"FE (kcal/mol)\", fontsize=12)\n",
    "    axs[1,i].set_ylim(0.0, 10.0)\n",
    "    axs[1,i].set_xlim(-8.0, 20.0)\n",
    "    axs[1,i].set_xlabel(\"$l$\", fontsize=12)\n",
    "    \n",
    "    axs[1,i].plot(fe_data[i,:,0]*-1+proj_fu_avg, fe_data[i,:,1]*(1/4.184), lw=3.0, color=colors[i])\n",
    "\n",
    "\n",
    "    axs[1,i].plot(grids_desres, fe_desres, linestyle='--', color=\"k\")\n",
    "\n",
    "plt.tight_layout(pad=0)\n",
    "if output_directory is not None:\n",
    "    plt.savefig(os.path.join(output_directory,\"hp35_compare_four_runs_time_and_fes.pdf\"), format=\"pdf\")"
   ]
  },
  {
   "cell_type": "code",
   "execution_count": null,
   "metadata": {},
   "outputs": [],
   "source": [
    "#avg_fe_ = np.mean(fe_data[:,:,1]*(gamma/(gamma-1))*(1/4.184), axis=0)\n",
    "avg_fe_ = np.mean(fe_data[:,:,1]*(1/4.184), axis=0)\n",
    "\n",
    "plt.figure(figsize=(6,6), dpi=80)\n",
    "plt.ylim(0,10)\n",
    "plt.xlim(-8,20)\n",
    "plt.xlabel(\"LD 1\", fontsize=16)\n",
    "plt.ylabel(\"FE (kcal/mol)\", fontsize=16)\n",
    "plt.grid(axis=\"both\", which=\"major\", linestyle=\"--\", color=\"lightgrey\")\n",
    "plt.plot(grids_desres, fe_desres, label=\"DESRES\", lw=3.0)\n",
    "plt.plot((fe_data[0,:,0]*-1)+proj_fu_avg, avg_fe_, label=\"avg. FE \", lw=3.0)\n",
    "plt.legend()"
   ]
  },
  {
   "cell_type": "code",
   "execution_count": null,
   "metadata": {},
   "outputs": [],
   "source": [
    "# not considering run_2 (outlier!!)\n",
    "#avg_fe_ = np.mean(fe_data[(0,2,3),:,1]*(gamma/(gamma-1))*(1/4.184), axis=0)\n",
    "avg_fe_ = np.mean(fe_data[(0,2,3),:,1]*(1/4.184), axis=0)\n",
    "\n",
    "\n",
    "plt.figure(figsize=(6,6), dpi=80)\n",
    "plt.ylim(0,10)\n",
    "plt.xlim(-8,20)\n",
    "plt.xlabel(\"LD 1\", fontsize=16)\n",
    "plt.ylabel(\"FE (kcal/mol)\", fontsize=16)\n",
    "plt.grid(axis=\"both\", which=\"major\", linestyle=\"--\", color=\"lightgrey\")\n",
    "plt.plot(grids_desres, fe_desres, label=\"DESRES\", lw=3.0)\n",
    "plt.plot((fe_data[0,:,0]*-1)+proj_fu_avg, avg_fe_, label=\"avg. FE \", lw=3.0)\n",
    "plt.legend()"
   ]
  },
  {
   "cell_type": "code",
   "execution_count": null,
   "metadata": {},
   "outputs": [],
   "source": [
    "print(avg_fe_.shape)"
   ]
  },
  {
   "cell_type": "code",
   "execution_count": null,
   "metadata": {},
   "outputs": [],
   "source": [
    "y = (avg_fe_[:-1]+avg_fe_[1:])/2.0\n",
    "yerr = np.abs(y[::-1]-fe_desres)\n",
    "plt.plot(grids_desres+proj_fu_avg, y[::-1], lw=3.0)\n",
    "plt.plot(grids_desres, fe_desres, lw=3.0)\n",
    "plt.ylim(0, 10.0)\n",
    "plt.fill_between(grids_desres, y[::-1]-yerr, y[::-1]+yerr, alpha=0.2)"
   ]
  },
  {
   "cell_type": "code",
   "execution_count": null,
   "metadata": {},
   "outputs": [],
   "source": [
    "print(fe_data[3,:,0]*-1)"
   ]
  },
  {
   "cell_type": "code",
   "execution_count": null,
   "metadata": {},
   "outputs": [],
   "source": []
  },
  {
   "cell_type": "markdown",
   "metadata": {},
   "source": [
    "# FE estimation using Block Averaging"
   ]
  },
  {
   "cell_type": "markdown",
   "metadata": {},
   "source": [
    "## write code for TCF"
   ]
  },
  {
   "cell_type": "code",
   "execution_count": null,
   "metadata": {},
   "outputs": [],
   "source": [
    "taus = np.linspace(1000, 30000, 30, endpoint=True, dtype=int)\n",
    "print(taus)\n",
    "\n",
    "n_frames = trajData.shape[0]\n",
    "print(n_frames)"
   ]
  },
  {
   "cell_type": "code",
   "execution_count": null,
   "metadata": {},
   "outputs": [],
   "source": [
    "x = ld1_fu - np.mean(ld1_fu)"
   ]
  },
  {
   "cell_type": "code",
   "execution_count": null,
   "metadata": {},
   "outputs": [],
   "source": [
    "correl_data = []\n",
    "for tau in taus:\n",
    "    correl = 0.0\n",
    "    for i in range(n_frames-tau):\n",
    "        correl += (ld1_fu[i]*ld1_fu[i+tau])\n",
    "        #correl += (x[i]*x[i+tau])\n",
    "    correl /= (n_frames-tau)\n",
    "    correl_data.append(correl)"
   ]
  },
  {
   "cell_type": "code",
   "execution_count": null,
   "metadata": {},
   "outputs": [],
   "source": [
    "plt.ylabel(\"< LD1(0) LD1(t)>\", fontsize=16)\n",
    "plt.xlabel(\"$\\\\tau$(n_frames)\", fontsize=16)\n",
    "plt.plot(taus, correl_data, '--', color=\"red\")\n",
    "plt.grid(linestyle=\"--\")"
   ]
  },
  {
   "cell_type": "code",
   "execution_count": null,
   "metadata": {},
   "outputs": [],
   "source": [
    "print(correl_data)"
   ]
  },
  {
   "cell_type": "code",
   "execution_count": null,
   "metadata": {},
   "outputs": [],
   "source": [
    "b_s = 12000\n",
    "n_b = int(trajData.shape[0]/b_s)\n",
    "print(b_s, n_b)\n",
    "\n",
    "ld_range=(-8,20)\n",
    "nbins=150\n",
    "\n",
    "\n",
    "all_fe_data = []\n",
    "\n",
    "for i in range(n_b):\n",
    "    if i != n_b-1:\n",
    "        x = ld1_fu[i*b_s:(i+1)*b_s:1]\n",
    "    else:\n",
    "        x = ld1_fu[i*b_s::1]\n",
    "        \n",
    "    # histogram \n",
    "    h, _ = np.histogram(x, range=ld_range, bins=nbins, density=True)\n",
    "    #f = -kbt*np.log(h)\n",
    "    #f -= f.min()\n",
    "    #all_fe_data.append(f)\n",
    "    all_fe_data.append(h)\n",
    "\n",
    "all_fe_data = np.array(all_fe_data)\n",
    "print(all_fe_data.shape)"
   ]
  },
  {
   "cell_type": "code",
   "execution_count": null,
   "metadata": {},
   "outputs": [],
   "source": [
    "real_std_list = np.std(all_fe_data, axis=0)/np.sqrt(n_b-1)  #!! please check this, denominator shoudl be there.\n",
    "#real_std_list = np.std(all_fe_data, axis=0)\n",
    "real_min_list = np.mean(all_fe_data, axis=0)\n",
    "print(real_min_list.shape)\n",
    "print(real_std_list.shape)\n",
    "\n",
    "fes = -kbt*np.log(real_min_list)\n",
    "fes -= fes.min()\n",
    "\n",
    "plt.errorbar(grids, fes, real_std_list, fmt=\"-\", capsize=2.0, ecolor=\"k\", elinewidth=0.5)"
   ]
  },
  {
   "cell_type": "code",
   "execution_count": null,
   "metadata": {},
   "outputs": [],
   "source": [
    "print(real_std_list)"
   ]
  },
  {
   "cell_type": "code",
   "execution_count": null,
   "metadata": {
    "scrolled": false
   },
   "outputs": [],
   "source": [
    "plt.fill_between(grids, fes-real_std_list, fes+real_std_list, color=\"purple\")"
   ]
  },
  {
   "cell_type": "markdown",
   "metadata": {},
   "source": [
    "## OPES_METAD 2.5us histogram of LD1 for difft clusters"
   ]
  },
  {
   "cell_type": "code",
   "execution_count": null,
   "metadata": {},
   "outputs": [],
   "source": [
    "clusters_opes, _, _= wsgmm.predict_weighted(opes_traj)\n",
    "print(clusters_opes.shape)"
   ]
  },
  {
   "cell_type": "code",
   "execution_count": null,
   "metadata": {},
   "outputs": [],
   "source": [
    "ld_range=[-8,20]\n",
    "nbins=100\n",
    "y = ld1_opes[::50]\n",
    "\n",
    "\n",
    "plt.figure(figsize=(6,5), dpi=100)\n",
    "plt.title(\"OPES_METAD (2.5 $\\\\mu$s)\")\n",
    "plt.xlabel(\"LD 1\", fontsize=16)\n",
    "plt.ylabel(\"P(LD 1)\", fontsize=16)\n",
    "# looping over clusters\n",
    "for i in range(wsgmm.n_clusters):\n",
    "    \n",
    "    # extracting LD values corresponding to each state\n",
    "    ld_i = y[[x[0] for x in np.argwhere(clusters_opes == i)]]\n",
    "    \n",
    "    # histogramming\n",
    "    hist_i ,bins = np.histogram(ld_i, range=ld_range, bins=nbins, density=True)\n",
    "    grids = (bins[1:] + bins[:-1])/2.0\n",
    "    \n",
    "    # calculate the weights\n",
    "    #weight = np.argwhere(clusters==i).size/clusters.size\n",
    "    \n",
    "    #plot it\n",
    "    #plt.plot(grids, hist_i*weight, label=\"cluster=%d\"%i, lw=2.0)\n",
    "    plt.plot(grids, hist_i, label=\"cluster=%d\"%i, lw=2.0)    \n",
    "    #plt.fill_between(grids, hist_i)\n",
    "    \n",
    "plt.legend(loc=\"upper right\", ncol=2, fontsize=\"medium\", markerscale=2.0)"
   ]
  },
  {
   "cell_type": "code",
   "execution_count": null,
   "metadata": {},
   "outputs": [],
   "source": []
  },
  {
   "cell_type": "code",
   "execution_count": null,
   "metadata": {},
   "outputs": [],
   "source": []
  },
  {
   "cell_type": "code",
   "execution_count": null,
   "metadata": {},
   "outputs": [],
   "source": []
  },
  {
   "cell_type": "code",
   "execution_count": null,
   "metadata": {},
   "outputs": [],
   "source": []
  }
 ],
 "metadata": {
  "kernelspec": {
   "display_name": "Python 3",
   "language": "python",
   "name": "python3"
  },
  "language_info": {
   "codemirror_mode": {
    "name": "ipython",
    "version": 3
   },
   "file_extension": ".py",
   "mimetype": "text/x-python",
   "name": "python",
   "nbconvert_exporter": "python",
   "pygments_lexer": "ipython3",
   "version": "3.8.6"
  }
 },
 "nbformat": 4,
 "nbformat_minor": 5
}
